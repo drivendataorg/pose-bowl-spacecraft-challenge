{
 "cells": [
  {
   "cell_type": "code",
   "execution_count": 1,
   "id": "2218d528-3eca-458c-bc26-b8e9149ea188",
   "metadata": {},
   "outputs": [],
   "source": [
    "import os\n",
    "# os.environ[\"CUDA_VISIBLE_DEVICES\"] = \"0\"\n",
    "\n",
    "import cv2\n",
    "# import tifffile\n",
    "import numpy as np\n",
    "import pandas as pd\n",
    "import matplotlib.pyplot as plt\n",
    "import gc\n",
    "import warnings\n",
    "warnings.filterwarnings(\"ignore\")\n",
    "\n",
    "import random\n",
    "# import torch\n",
    "# import torch.nn as nn\n",
    "import albumentations\n",
    "\n",
    "# import segmentation_models_pytorch as smp\n",
    "import skimage\n",
    "\n",
    "\n",
    "from tqdm import tqdm\n",
    "# import torch.optim as optim\n",
    "# from torch.utils.data import TensorDataset, DataLoader,Dataset\n",
    "# from fastprogress import master_bar, progress_bar\n",
    "\n",
    "def create_dir(path):\n",
    "    if os.path.isdir(path)==False:\n",
    "        os.makedirs(path)"
   ]
  },
  {
   "cell_type": "code",
   "execution_count": null,
   "id": "cc5af46e",
   "metadata": {},
   "outputs": [],
   "source": [
    "from pathlib import Path\n",
    "PROJ_DIRECTORY = Path.cwd()"
   ]
  },
  {
   "cell_type": "code",
   "execution_count": 2,
   "id": "ba502438",
   "metadata": {},
   "outputs": [],
   "source": [
    "# set pose estimation training data path\n",
    "data_path= str(PROJ_DIRECTORY / 'datasets' / 'pose') + \"/\""
   ]
  },
  {
   "cell_type": "code",
   "execution_count": 3,
   "id": "cbaabc73-20d4-490f-badc-e978a8a22883",
   "metadata": {},
   "outputs": [],
   "source": [
    "from ultralytics import YOLO\n",
    "# load trained Yolo\n",
    "model = YOLO( PROJ_DIRECTORY / 'finetune/train/weights/last.pt')\n",
    "# model = YOLO('last_used.pt')"
   ]
  },
  {
   "cell_type": "code",
   "execution_count": 4,
   "id": "f9743c7f",
   "metadata": {},
   "outputs": [
    {
     "data": {
      "text/plain": [
       "((66000, 9), (66000, 3))"
      ]
     },
     "execution_count": 4,
     "metadata": {},
     "output_type": "execute_result"
    }
   ],
   "source": [
    "# read the .csv files, set the right path\n",
    "train_labels=pd.read_csv(data_path + 'train_labels.csv')\n",
    "rangeDF=pd.read_csv(data_path + 'range.csv')\n",
    "train_labels.shape, rangeDF.shape"
   ]
  },
  {
   "cell_type": "code",
   "execution_count": null,
   "id": "860e6bd5-12b0-4496-9898-4b3678cb0e0e",
   "metadata": {},
   "outputs": [],
   "source": []
  },
  {
   "cell_type": "code",
   "execution_count": 5,
   "id": "5a9090c8",
   "metadata": {},
   "outputs": [],
   "source": [
    "NUM_TARGETS=1\n",
    "CENTER_CROP=384\n",
    "RESIZE=384"
   ]
  },
  {
   "cell_type": "code",
   "execution_count": 6,
   "id": "a7fa3843",
   "metadata": {},
   "outputs": [
    {
     "data": {
      "text/html": [
       "<div>\n",
       "<style scoped>\n",
       "    .dataframe tbody tr th:only-of-type {\n",
       "        vertical-align: middle;\n",
       "    }\n",
       "\n",
       "    .dataframe tbody tr th {\n",
       "        vertical-align: top;\n",
       "    }\n",
       "\n",
       "    .dataframe thead th {\n",
       "        text-align: right;\n",
       "    }\n",
       "</style>\n",
       "<table border=\"1\" class=\"dataframe\">\n",
       "  <thead>\n",
       "    <tr style=\"text-align: right;\">\n",
       "      <th></th>\n",
       "      <th>chain_id</th>\n",
       "      <th>i</th>\n",
       "      <th>x</th>\n",
       "      <th>y</th>\n",
       "      <th>z</th>\n",
       "      <th>qw</th>\n",
       "      <th>qx</th>\n",
       "      <th>qy</th>\n",
       "      <th>qz</th>\n",
       "    </tr>\n",
       "  </thead>\n",
       "  <tbody>\n",
       "    <tr>\n",
       "      <th>0</th>\n",
       "      <td>0036465cc6</td>\n",
       "      <td>0</td>\n",
       "      <td>0.000000</td>\n",
       "      <td>0.000000</td>\n",
       "      <td>0.000000</td>\n",
       "      <td>1.000000</td>\n",
       "      <td>0.000000</td>\n",
       "      <td>0.000000</td>\n",
       "      <td>0.000000</td>\n",
       "    </tr>\n",
       "    <tr>\n",
       "      <th>1</th>\n",
       "      <td>0036465cc6</td>\n",
       "      <td>1</td>\n",
       "      <td>0.571732</td>\n",
       "      <td>8.856913</td>\n",
       "      <td>-11.087827</td>\n",
       "      <td>0.996956</td>\n",
       "      <td>-0.046685</td>\n",
       "      <td>-0.046640</td>\n",
       "      <td>-0.041523</td>\n",
       "    </tr>\n",
       "    <tr>\n",
       "      <th>2</th>\n",
       "      <td>0036465cc6</td>\n",
       "      <td>2</td>\n",
       "      <td>-0.014641</td>\n",
       "      <td>2.789255</td>\n",
       "      <td>-5.214775</td>\n",
       "      <td>0.988523</td>\n",
       "      <td>-0.149369</td>\n",
       "      <td>-0.017915</td>\n",
       "      <td>-0.013805</td>\n",
       "    </tr>\n",
       "    <tr>\n",
       "      <th>3</th>\n",
       "      <td>0036465cc6</td>\n",
       "      <td>3</td>\n",
       "      <td>0.585297</td>\n",
       "      <td>-3.229511</td>\n",
       "      <td>6.535775</td>\n",
       "      <td>0.967863</td>\n",
       "      <td>-0.249140</td>\n",
       "      <td>0.025555</td>\n",
       "      <td>0.022740</td>\n",
       "    </tr>\n",
       "    <tr>\n",
       "      <th>4</th>\n",
       "      <td>0036465cc6</td>\n",
       "      <td>4</td>\n",
       "      <td>0.001839</td>\n",
       "      <td>-5.679097</td>\n",
       "      <td>-0.621195</td>\n",
       "      <td>0.927903</td>\n",
       "      <td>-0.371874</td>\n",
       "      <td>-0.009899</td>\n",
       "      <td>0.024641</td>\n",
       "    </tr>\n",
       "  </tbody>\n",
       "</table>\n",
       "</div>"
      ],
      "text/plain": [
       "     chain_id  i         x         y          z        qw        qx        qy  \\\n",
       "0  0036465cc6  0  0.000000  0.000000   0.000000  1.000000  0.000000  0.000000   \n",
       "1  0036465cc6  1  0.571732  8.856913 -11.087827  0.996956 -0.046685 -0.046640   \n",
       "2  0036465cc6  2 -0.014641  2.789255  -5.214775  0.988523 -0.149369 -0.017915   \n",
       "3  0036465cc6  3  0.585297 -3.229511   6.535775  0.967863 -0.249140  0.025555   \n",
       "4  0036465cc6  4  0.001839 -5.679097  -0.621195  0.927903 -0.371874 -0.009899   \n",
       "\n",
       "         qz  \n",
       "0  0.000000  \n",
       "1 -0.041523  \n",
       "2 -0.013805  \n",
       "3  0.022740  \n",
       "4  0.024641  "
      ]
     },
     "execution_count": 6,
     "metadata": {},
     "output_type": "execute_result"
    }
   ],
   "source": [
    "s=train_labels.loc[train_labels.chain_id=='0036465cc6',:]\n",
    "s.head()"
   ]
  },
  {
   "cell_type": "code",
   "execution_count": 7,
   "id": "ef6d304f",
   "metadata": {},
   "outputs": [
    {
     "data": {
      "text/plain": [
       "(1024, 1280, 3)"
      ]
     },
     "execution_count": 7,
     "metadata": {},
     "output_type": "execute_result"
    }
   ],
   "source": [
    "img=cv2.imread(data_path / 'images/0036465cc6/000.png')\n",
    "img.shape"
   ]
  },
  {
   "cell_type": "code",
   "execution_count": 8,
   "id": "75b6db73",
   "metadata": {},
   "outputs": [
    {
     "data": {
      "text/plain": [
       "array([    0.50849,     0.52079,     0.52299])"
      ]
     },
     "execution_count": 8,
     "metadata": {},
     "output_type": "execute_result"
    }
   ],
   "source": [
    "np.mean(img,(0,1))"
   ]
  },
  {
   "cell_type": "code",
   "execution_count": 9,
   "id": "c7b6a185",
   "metadata": {},
   "outputs": [
    {
     "data": {
      "image/png": "[encoded data removed]",
      "text/plain": [
       "<Figure size 640x480 with 1 Axes>"
      ]
     },
     "metadata": {},
     "output_type": "display_data"
    }
   ],
   "source": [
    "plt.imshow(img)\n",
    "plt.show()"
   ]
  },
  {
   "cell_type": "code",
   "execution_count": 10,
   "id": "52044984",
   "metadata": {},
   "outputs": [
    {
     "data": {
      "image/png": "[encoded data removed]",
      "text/plain": [
       "<Figure size 640x480 with 1 Axes>"
      ]
     },
     "metadata": {},
     "output_type": "display_data"
    }
   ],
   "source": [
    "plt.imshow(img[400:-400,500:-500,:])\n",
    "plt.show()"
   ]
  },
  {
   "cell_type": "code",
   "execution_count": null,
   "id": "a5d2c468",
   "metadata": {},
   "outputs": [],
   "source": []
  },
  {
   "cell_type": "code",
   "execution_count": 11,
   "id": "2aaf94e8",
   "metadata": {},
   "outputs": [
    {
     "data": {
      "text/plain": [
       "621"
      ]
     },
     "execution_count": 11,
     "metadata": {},
     "output_type": "execute_result"
    }
   ],
   "source": [
    "cases = os.listdir(data_path+'images')\n",
    "len(cases)"
   ]
  },
  {
   "cell_type": "code",
   "execution_count": 12,
   "id": "2193d720-428f-4b6b-aeda-8a5d4b9f6465",
   "metadata": {
    "scrolled": true
   },
   "outputs": [],
   "source": [
    "a=(os.listdir(data_path+'images/'+cases[0]))\n",
    "a.sort()\n",
    "# print(a)"
   ]
  },
  {
   "cell_type": "code",
   "execution_count": 13,
   "id": "6264da27",
   "metadata": {},
   "outputs": [
    {
     "data": {
      "text/plain": [
       "(array([ 83, 100]), array([  1, 620]))"
      ]
     },
     "execution_count": 13,
     "metadata": {},
     "output_type": "execute_result"
    }
   ],
   "source": [
    "np.unique([len(os.listdir(data_path+'images/'+x)) for x in cases],return_counts=True)"
   ]
  },
  {
   "cell_type": "code",
   "execution_count": 14,
   "id": "1196d7d0",
   "metadata": {},
   "outputs": [
    {
     "data": {
      "text/plain": [
       "(array([492]),)"
      ]
     },
     "execution_count": 14,
     "metadata": {},
     "output_type": "execute_result"
    }
   ],
   "source": [
    "np.where(np.array([len(os.listdir(data_path+'images/'+x)) for x in cases])==83)"
   ]
  },
  {
   "cell_type": "code",
   "execution_count": 15,
   "id": "10f30a80",
   "metadata": {},
   "outputs": [
    {
     "data": {
      "text/plain": [
       "'c7b8e6149d'"
      ]
     },
     "execution_count": 15,
     "metadata": {},
     "output_type": "execute_result"
    }
   ],
   "source": [
    "cases[492]"
   ]
  },
  {
   "cell_type": "code",
   "execution_count": 16,
   "id": "76509f9d",
   "metadata": {},
   "outputs": [
    {
     "data": {
      "text/plain": [
       "83"
      ]
     },
     "execution_count": 16,
     "metadata": {},
     "output_type": "execute_result"
    }
   ],
   "source": [
    "len(os.listdir(data_path+'images/'+cases[492]))"
   ]
  },
  {
   "cell_type": "code",
   "execution_count": null,
   "id": "46b31a7c",
   "metadata": {},
   "outputs": [],
   "source": []
  },
  {
   "cell_type": "code",
   "execution_count": 17,
   "id": "d3a3dc36",
   "metadata": {
    "scrolled": true
   },
   "outputs": [
    {
     "data": {
      "text/plain": [
       "['082.png', '097.png', '084.png', '023.png', '017.png']"
      ]
     },
     "execution_count": 17,
     "metadata": {},
     "output_type": "execute_result"
    }
   ],
   "source": [
    "os.listdir(data_path+'images/'+cases[0])[:5]"
   ]
  },
  {
   "cell_type": "code",
   "execution_count": 18,
   "id": "03e47af3",
   "metadata": {},
   "outputs": [
    {
     "data": {
      "text/plain": [
       "(124, 124, 497)"
      ]
     },
     "execution_count": 18,
     "metadata": {},
     "output_type": "execute_result"
    }
   ],
   "source": [
    "# train-val split 80-20\n",
    "np.random.seed(42)\n",
    "val_cases=np.random.choice(cases,int(0.2*(len(cases))), replace=False)\n",
    "train_cases=np.array([x for x in cases if x not in val_cases])\n",
    "len(val_cases),len(np.unique(val_cases)),len(train_cases)"
   ]
  },
  {
   "cell_type": "code",
   "execution_count": 19,
   "id": "83d0ac58",
   "metadata": {},
   "outputs": [
    {
     "data": {
      "text/plain": [
       "['c7b8e6149d']"
      ]
     },
     "execution_count": 19,
     "metadata": {},
     "output_type": "execute_result"
    }
   ],
   "source": [
    "[x for x in train_cases if x in [cases[492]]]"
   ]
  },
  {
   "cell_type": "code",
   "execution_count": 20,
   "id": "e1158533",
   "metadata": {
    "scrolled": true
   },
   "outputs": [
    {
     "name": "stderr",
     "output_type": "stream",
     "text": [
      "100%|██████████| 124/124 [01:32<00:00,  1.35it/s]\n"
     ]
    },
    {
     "data": {
      "text/plain": [
       "(12276, (12276, 7))"
      ]
     },
     "execution_count": 20,
     "metadata": {},
     "output_type": "execute_result"
    }
   ],
   "source": [
    "val_ids=[]\n",
    "val_targets=[]\n",
    "for c in tqdm(val_cases):\n",
    "    p=data_path+'images/'+c+'/'\n",
    "    all_images=os.listdir(p)\n",
    "    all_images=[x for x in all_images if x not in ['000.png']]\n",
    "    for im in all_images:\n",
    "        val_ids.append([p+'000.png', p+im])\n",
    "        val_targets.append(train_labels.loc[(train_labels.chain_id==c)&(train_labels.i==int(im.split('.')[0])),\n",
    "                                                                    ['x','y','z','qw','qx','qy','qz'] ].values)\n",
    "\n",
    "val_ids=np.vstack(val_ids)\n",
    "val_targets=np.vstack(val_targets)\n",
    "len(val_ids),val_targets.shape"
   ]
  },
  {
   "cell_type": "code",
   "execution_count": 21,
   "id": "831ae921",
   "metadata": {},
   "outputs": [],
   "source": [
    "val_chains=[x[1].split('/')[-2] for x in val_ids]\n",
    "val_chains_i=[int(x[1].split('/')[-1][:-4]) for x in val_ids]\n",
    "ref=pd.DataFrame({'chain_id': np.unique(val_chains)})\n",
    "ref['i']=0\n",
    "ref['x']=0\n",
    "ref['y']=0\n",
    "ref['z']=0\n",
    "ref['qw']=1\n",
    "ref['qx']=0\n",
    "ref['qy']=0\n",
    "ref['qz']=0\n",
    "# train_labels\n",
    "\n",
    "# val_chain_gt_df = pd.DataFrame(np.concatenate((np.expand_dims(val_chains,-1), np.expand_dims(val_chains_i,-1), val_targets),-1))\n",
    "# val_chain_gt_df.columns=train_labels.columns\n",
    "# val_chain_gt_df.iloc[:,1:]=val_chain_gt_df.iloc[:,1:].astype(float)\n",
    "# val_chain_gt_df = pd.concat([val_chain_gt_df, ref]).sort_values(['chain_id','i']).reset_index(drop=True)\n",
    "# val_chain_gt_df.to_csv('val_chain_gt_df.csv',index=False)\n",
    "# val_chain_gt_df\n",
    "# # train_labels"
   ]
  },
  {
   "cell_type": "code",
   "execution_count": null,
   "id": "c6ce319b",
   "metadata": {},
   "outputs": [],
   "source": []
  },
  {
   "cell_type": "code",
   "execution_count": 22,
   "id": "4f67a0d8",
   "metadata": {},
   "outputs": [
    {
     "name": "stderr",
     "output_type": "stream",
     "text": [
      "100%|██████████| 497/497 [06:08<00:00,  1.35it/s]\n"
     ]
    },
    {
     "data": {
      "text/plain": [
       "(49186, (49186, 7))"
      ]
     },
     "execution_count": 22,
     "metadata": {},
     "output_type": "execute_result"
    }
   ],
   "source": [
    "train_ids=[]\n",
    "train_targets=[]\n",
    "for c in tqdm(train_cases):\n",
    "    p=data_path+'images/'+c+'/'\n",
    "    if os.path.isdir(p):\n",
    "        all_images=os.listdir(p)\n",
    "        all_images=[x for x in all_images if x not in ['000.png']]\n",
    "        for im in all_images:\n",
    "            train_ids.append([p+'000.png', p+im])\n",
    "            train_targets.append(train_labels.loc[(train_labels.chain_id==c)&(train_labels.i==int(im.split('.')[0])),\n",
    "                                                                        ['x','y','z','qw','qx','qy','qz'] ].values)\n",
    "\n",
    "train_ids=np.vstack(train_ids)\n",
    "train_targets=np.vstack(train_targets)\n",
    "len(train_ids),train_targets.shape\n"
   ]
  },
  {
   "cell_type": "code",
   "execution_count": 29,
   "id": "2970193e",
   "metadata": {},
   "outputs": [],
   "source": [
    "# train_shapes=[]\n",
    "# failed_reading=[]\n",
    "# for c in tqdm(train_cases):\n",
    "#     p=data_path+'images/'+c+'/'\n",
    "#     all_images=os.listdir(p)\n",
    "# #     all_images=[x for x in all_images if x not in ['000.png']]\n",
    "#     for im in all_images:\n",
    "#         try:\n",
    "#             img = cv2.imread(p+im)\n",
    "#             train_shapes.append( [p+im, img.shape])\n",
    "#         except:\n",
    "#             failed_reading.append( p+im)\n",
    "\n",
    "# # np.unique(np.vstack(train_shapes)[:,1])\n",
    "# # array([(1024, 1280, 3)], dtype=object)\n",
    "# # failed_reading\n",
    "# # ['/fast/Spacecraft_Pose_Estimation/images/c7b8e6149d/005.png']"
   ]
  },
  {
   "cell_type": "code",
   "execution_count": 30,
   "id": "20cf27f4",
   "metadata": {},
   "outputs": [],
   "source": [
    "# val_shapes=[]\n",
    "# val_failed_reading=[]\n",
    "# for c in tqdm(val_cases):\n",
    "#     p=data_path+'images/'+c+'/'\n",
    "#     all_images=os.listdir(p)\n",
    "# #     all_images=[x for x in all_images if x not in ['000.png']]\n",
    "#     for im in all_images:\n",
    "#         try:\n",
    "#             img = cv2.imread(p+im)\n",
    "#             val_shapes.append( [p+im, img.shape])\n",
    "#         except:\n",
    "#             val_failed_reading.append( p+im)\n",
    "# # (array([(1024, 1280, 3)], dtype=object),\n",
    "# #  ['/fast/Spacecraft_Pose_Estimation/images/898466710c/059.png',\n",
    "# #   '/fast/Spacecraft_Pose_Estimation/images/575ebc7410/040.png',\n",
    "# #   '/fast/Spacecraft_Pose_Estimation/images/af0973ade8/059.png'])\n",
    "# # for n in val_failed_reading:\n",
    "# #     print(np.where(val_ids[:,1]==n)[0][0])\n",
    "# # 856\n",
    "# # 1285\n",
    "# # 1747\n"
   ]
  },
  {
   "cell_type": "code",
   "execution_count": 31,
   "id": "ac2f9174",
   "metadata": {},
   "outputs": [],
   "source": [
    "# for n in val_failed_reading:\n",
    "#     print(np.where(val_ids[:,1]==n)[0][0])"
   ]
  },
  {
   "cell_type": "code",
   "execution_count": 48,
   "id": "378a27ad-9553-4448-92b2-b6a7f90c69d8",
   "metadata": {},
   "outputs": [],
   "source": [
    "# train_ids[39186],val_ids[[856, 1285, 1747],:]"
   ]
  },
  {
   "cell_type": "code",
   "execution_count": 36,
   "id": "0cf0a3f9-84d1-436b-9bfe-d83e8eb0ad61",
   "metadata": {},
   "outputs": [
    {
     "data": {
      "text/plain": [
       "(4, 2)"
      ]
     },
     "execution_count": 36,
     "metadata": {},
     "output_type": "execute_result"
    }
   ],
   "source": [
    "removethisids=np.array([[data_path + 'images/c7b8e6149d/000.png', data_path + 'images/c7b8e6149d/005.png'],\n",
    "\n",
    "        [data_path + 'images/898466710c/000.png', data_path + 'images/898466710c/059.png'],\n",
    "        [data_path + 'images/575ebc7410/000.png', data_path + 'images/575ebc7410/040.png'],\n",
    "        [data_path + 'images/af0973ade8/000.png', data_path + 'images/af0973ade8/059.png']])\n",
    "removethisids.shape"
   ]
  },
  {
   "cell_type": "code",
   "execution_count": 47,
   "id": "1f5adc6e-b1d8-447d-8ed9-174e8b93f6ae",
   "metadata": {},
   "outputs": [
    {
     "data": {
      "text/plain": [
       "([39186], [856, 1285, 1747])"
      ]
     },
     "execution_count": 47,
     "metadata": {},
     "output_type": "execute_result"
    }
   ],
   "source": [
    "remove_inds_from_train = []\n",
    "for i in range(len(removethisids)):\n",
    "    try:\n",
    "        remove_inds_from_train.append(np.where(train_ids[:,1]==removethisids[i][1])[0][0])\n",
    "    except:\n",
    "        pass\n",
    "remove_inds_from_val = []\n",
    "for i in range(len(removethisids)):\n",
    "    try:\n",
    "        remove_inds_from_val.append(np.where(val_ids[:,1]==removethisids[i][1])[0][0])\n",
    "    except:\n",
    "        pass\n",
    "remove_inds_from_train, remove_inds_from_val"
   ]
  },
  {
   "cell_type": "code",
   "execution_count": 49,
   "id": "780436b7-65f5-4e78-8198-52c4944154f4",
   "metadata": {},
   "outputs": [
    {
     "data": {
      "text/plain": [
       "((49185, 2), (49185, 7), (12273, 2), (12273, 7))"
      ]
     },
     "execution_count": 49,
     "metadata": {},
     "output_type": "execute_result"
    }
   ],
   "source": [
    "if len(remove_inds_from_train)>0:\n",
    "    train_ids=train_ids[[x for x in range(len(train_ids)) if x not in remove_inds_from_train],:]\n",
    "    train_targets=train_targets[[x for x in range(len(train_targets)) if x not in remove_inds_from_train],:]\n",
    "\n",
    "if len(remove_inds_from_val)>0:\n",
    "    val_ids=val_ids[[x for x in range(len(val_ids)) if x not in remove_inds_from_val],:]\n",
    "    val_targets=val_targets[[x for x in range(len(val_targets)) if x not in remove_inds_from_val],:]\n",
    "\n",
    "\n",
    "train_ids.shape, train_targets.shape, val_ids.shape, val_targets.shape"
   ]
  },
  {
   "cell_type": "code",
   "execution_count": 32,
   "id": "8702d9b3",
   "metadata": {},
   "outputs": [
    {
     "data": {
      "text/plain": [
       "((49185, 2), (49185, 7), (12273, 2), (12273, 7))"
      ]
     },
     "execution_count": 32,
     "metadata": {},
     "output_type": "execute_result"
    }
   ],
   "source": [
    "# train_ids=train_ids[[x for x in range(len(train_ids)) if x not in [39186]],:]\n",
    "# train_targets=train_targets[[x for x in range(len(train_targets)) if x not in [39186]],:]\n",
    "\n",
    "# val_ids=val_ids[[x for x in range(len(val_ids)) if x not in [856, 1285, 1747]],:]\n",
    "# val_targets=val_targets[[x for x in range(len(val_targets)) if x not in [856, 1285, 1747]],:]\n",
    "\n",
    "\n",
    "# train_ids.shape, train_targets.shape, val_ids.shape, val_targets.shape"
   ]
  },
  {
   "cell_type": "code",
   "execution_count": 50,
   "id": "d2aaec45-12a7-45a6-a0d7-0105b182093f",
   "metadata": {},
   "outputs": [
    {
     "data": {
      "text/plain": [
       "(12273, 12273)"
      ]
     },
     "execution_count": 50,
     "metadata": {},
     "output_type": "execute_result"
    }
   ],
   "source": [
    "if len(remove_inds_from_val)>0:\n",
    "    val_chains=np.array(val_chains)[[x for x in range(len(val_chains)) if x not in remove_inds_from_val]]\n",
    "    val_chains_i=np.array(val_chains_i)[[x for x in range(len(val_chains_i)) if x not in remove_inds_from_val]]\n",
    "len(val_chains_i),len(val_chains)"
   ]
  },
  {
   "cell_type": "code",
   "execution_count": 33,
   "id": "7b6d9137",
   "metadata": {},
   "outputs": [
    {
     "data": {
      "text/plain": [
       "(12273, 12273)"
      ]
     },
     "execution_count": 33,
     "metadata": {},
     "output_type": "execute_result"
    }
   ],
   "source": [
    "# val_chains=np.array(val_chains)[[x for x in range(len(val_chains)) if x not in [856, 1285, 1747]]]\n",
    "# val_chains_i=np.array(val_chains_i)[[x for x in range(len(val_chains_i)) if x not in [856, 1285, 1747]]]\n",
    "# len(val_chains_i),len(val_chains)"
   ]
  },
  {
   "cell_type": "code",
   "execution_count": 51,
   "id": "094b4a8e",
   "metadata": {},
   "outputs": [
    {
     "data": {
      "text/html": [
       "<div>\n",
       "<style scoped>\n",
       "    .dataframe tbody tr th:only-of-type {\n",
       "        vertical-align: middle;\n",
       "    }\n",
       "\n",
       "    .dataframe tbody tr th {\n",
       "        vertical-align: top;\n",
       "    }\n",
       "\n",
       "    .dataframe thead th {\n",
       "        text-align: right;\n",
       "    }\n",
       "</style>\n",
       "<table border=\"1\" class=\"dataframe\">\n",
       "  <thead>\n",
       "    <tr style=\"text-align: right;\">\n",
       "      <th></th>\n",
       "      <th>chain_id</th>\n",
       "      <th>i</th>\n",
       "      <th>x</th>\n",
       "      <th>y</th>\n",
       "      <th>z</th>\n",
       "      <th>qw</th>\n",
       "      <th>qx</th>\n",
       "      <th>qy</th>\n",
       "      <th>qz</th>\n",
       "    </tr>\n",
       "  </thead>\n",
       "  <tbody>\n",
       "    <tr>\n",
       "      <th>0</th>\n",
       "      <td>031dbad3c0</td>\n",
       "      <td>0</td>\n",
       "      <td>0</td>\n",
       "      <td>0</td>\n",
       "      <td>0</td>\n",
       "      <td>1</td>\n",
       "      <td>0</td>\n",
       "      <td>0</td>\n",
       "      <td>0</td>\n",
       "    </tr>\n",
       "    <tr>\n",
       "      <th>1</th>\n",
       "      <td>031dbad3c0</td>\n",
       "      <td>1.0</td>\n",
       "      <td>12.114075</td>\n",
       "      <td>-78.491692</td>\n",
       "      <td>-11.749588</td>\n",
       "      <td>0.990646</td>\n",
       "      <td>0.040924</td>\n",
       "      <td>-0.013321</td>\n",
       "      <td>0.129492</td>\n",
       "    </tr>\n",
       "    <tr>\n",
       "      <th>2</th>\n",
       "      <td>031dbad3c0</td>\n",
       "      <td>2.0</td>\n",
       "      <td>7.685059</td>\n",
       "      <td>-65.040146</td>\n",
       "      <td>-11.8153</td>\n",
       "      <td>0.993682</td>\n",
       "      <td>0.037831</td>\n",
       "      <td>-0.012172</td>\n",
       "      <td>0.104963</td>\n",
       "    </tr>\n",
       "    <tr>\n",
       "      <th>3</th>\n",
       "      <td>031dbad3c0</td>\n",
       "      <td>3.0</td>\n",
       "      <td>17.884277</td>\n",
       "      <td>-97.27285</td>\n",
       "      <td>-10.788047</td>\n",
       "      <td>0.985571</td>\n",
       "      <td>0.048023</td>\n",
       "      <td>-0.016243</td>\n",
       "      <td>0.161491</td>\n",
       "    </tr>\n",
       "    <tr>\n",
       "      <th>4</th>\n",
       "      <td>031dbad3c0</td>\n",
       "      <td>4.0</td>\n",
       "      <td>6.934784</td>\n",
       "      <td>-54.452129</td>\n",
       "      <td>-8.48818</td>\n",
       "      <td>0.991626</td>\n",
       "      <td>0.094688</td>\n",
       "      <td>-0.003965</td>\n",
       "      <td>0.087727</td>\n",
       "    </tr>\n",
       "    <tr>\n",
       "      <th>...</th>\n",
       "      <td>...</td>\n",
       "      <td>...</td>\n",
       "      <td>...</td>\n",
       "      <td>...</td>\n",
       "      <td>...</td>\n",
       "      <td>...</td>\n",
       "      <td>...</td>\n",
       "      <td>...</td>\n",
       "      <td>...</td>\n",
       "    </tr>\n",
       "    <tr>\n",
       "      <th>12392</th>\n",
       "      <td>fe8bbecd83</td>\n",
       "      <td>95.0</td>\n",
       "      <td>35.061722</td>\n",
       "      <td>9.433044</td>\n",
       "      <td>-131.909546</td>\n",
       "      <td>0.966501</td>\n",
       "      <td>0.024006</td>\n",
       "      <td>-0.254768</td>\n",
       "      <td>-0.019803</td>\n",
       "    </tr>\n",
       "    <tr>\n",
       "      <th>12393</th>\n",
       "      <td>fe8bbecd83</td>\n",
       "      <td>96.0</td>\n",
       "      <td>45.657578</td>\n",
       "      <td>25.128151</td>\n",
       "      <td>-145.975113</td>\n",
       "      <td>0.955316</td>\n",
       "      <td>0.052766</td>\n",
       "      <td>-0.287164</td>\n",
       "      <td>-0.046076</td>\n",
       "    </tr>\n",
       "    <tr>\n",
       "      <th>12394</th>\n",
       "      <td>fe8bbecd83</td>\n",
       "      <td>97.0</td>\n",
       "      <td>40.431274</td>\n",
       "      <td>-11.17926</td>\n",
       "      <td>-141.36113</td>\n",
       "      <td>0.952461</td>\n",
       "      <td>0.140735</td>\n",
       "      <td>-0.265455</td>\n",
       "      <td>0.050442</td>\n",
       "    </tr>\n",
       "    <tr>\n",
       "      <th>12395</th>\n",
       "      <td>fe8bbecd83</td>\n",
       "      <td>98.0</td>\n",
       "      <td>42.742828</td>\n",
       "      <td>-7.558107</td>\n",
       "      <td>-143.729889</td>\n",
       "      <td>0.949211</td>\n",
       "      <td>0.152283</td>\n",
       "      <td>-0.271309</td>\n",
       "      <td>0.046901</td>\n",
       "    </tr>\n",
       "    <tr>\n",
       "      <th>12396</th>\n",
       "      <td>fe8bbecd83</td>\n",
       "      <td>99.0</td>\n",
       "      <td>41.57872</td>\n",
       "      <td>-18.097555</td>\n",
       "      <td>-141.439423</td>\n",
       "      <td>0.948123</td>\n",
       "      <td>0.165659</td>\n",
       "      <td>-0.262355</td>\n",
       "      <td>0.069214</td>\n",
       "    </tr>\n",
       "  </tbody>\n",
       "</table>\n",
       "<p>12397 rows × 9 columns</p>\n",
       "</div>"
      ],
      "text/plain": [
       "         chain_id     i          x          y           z        qw        qx  \\\n",
       "0      031dbad3c0     0          0          0           0         1         0   \n",
       "1      031dbad3c0   1.0  12.114075 -78.491692  -11.749588  0.990646  0.040924   \n",
       "2      031dbad3c0   2.0   7.685059 -65.040146    -11.8153  0.993682  0.037831   \n",
       "3      031dbad3c0   3.0  17.884277  -97.27285  -10.788047  0.985571  0.048023   \n",
       "4      031dbad3c0   4.0   6.934784 -54.452129    -8.48818  0.991626  0.094688   \n",
       "...           ...   ...        ...        ...         ...       ...       ...   \n",
       "12392  fe8bbecd83  95.0  35.061722   9.433044 -131.909546  0.966501  0.024006   \n",
       "12393  fe8bbecd83  96.0  45.657578  25.128151 -145.975113  0.955316  0.052766   \n",
       "12394  fe8bbecd83  97.0  40.431274  -11.17926  -141.36113  0.952461  0.140735   \n",
       "12395  fe8bbecd83  98.0  42.742828  -7.558107 -143.729889  0.949211  0.152283   \n",
       "12396  fe8bbecd83  99.0   41.57872 -18.097555 -141.439423  0.948123  0.165659   \n",
       "\n",
       "             qy        qz  \n",
       "0             0         0  \n",
       "1     -0.013321  0.129492  \n",
       "2     -0.012172  0.104963  \n",
       "3     -0.016243  0.161491  \n",
       "4     -0.003965  0.087727  \n",
       "...         ...       ...  \n",
       "12392 -0.254768 -0.019803  \n",
       "12393 -0.287164 -0.046076  \n",
       "12394 -0.265455  0.050442  \n",
       "12395 -0.271309  0.046901  \n",
       "12396 -0.262355  0.069214  \n",
       "\n",
       "[12397 rows x 9 columns]"
      ]
     },
     "execution_count": 51,
     "metadata": {},
     "output_type": "execute_result"
    }
   ],
   "source": [
    "val_chain_gt_df = pd.DataFrame(np.concatenate((np.expand_dims(val_chains,-1), np.expand_dims(val_chains_i,-1), val_targets),-1))\n",
    "val_chain_gt_df.columns=train_labels.columns\n",
    "val_chain_gt_df.iloc[:,1:]=val_chain_gt_df.iloc[:,1:].astype(float)\n",
    "val_chain_gt_df = pd.concat([val_chain_gt_df, ref]).sort_values(['chain_id','i']).reset_index(drop=True)\n",
    "val_chain_gt_df.to_csv('val_chain_gt_df.csv',index=False)\n",
    "val_chain_gt_df\n",
    "# train_labels"
   ]
  },
  {
   "cell_type": "code",
   "execution_count": 52,
   "id": "3967a4fd",
   "metadata": {},
   "outputs": [],
   "source": [
    "# train_labels"
   ]
  },
  {
   "cell_type": "code",
   "execution_count": null,
   "id": "1e76fdb7-0e47-4f9b-973e-ecd8cafaa879",
   "metadata": {},
   "outputs": [],
   "source": []
  },
  {
   "cell_type": "code",
   "execution_count": 53,
   "id": "7db51010",
   "metadata": {},
   "outputs": [
    {
     "data": {
      "text/plain": [
       "((1024, 1280, 3), (384, 384, 3))"
      ]
     },
     "execution_count": 53,
     "metadata": {},
     "output_type": "execute_result"
    }
   ],
   "source": [
    "def center_crop(img, final_size=CENTER_CROP):\n",
    "    y, x = img.shape[:2]\n",
    "    y2 = max(0, int(y/2-final_size/2))\n",
    "    x2 = max(0, int(x/2-final_size/2))\n",
    "#     print(y2,x2)\n",
    "    return img[y2:-y2,x2:-x2,:]\n",
    "img.shape, center_crop(img).shape"
   ]
  },
  {
   "cell_type": "code",
   "execution_count": 54,
   "id": "3fa7bbac",
   "metadata": {},
   "outputs": [
    {
     "data": {
      "image/png": "[encoded data removed]",
      "text/plain": [
       "<Figure size 640x480 with 1 Axes>"
      ]
     },
     "metadata": {},
     "output_type": "display_data"
    }
   ],
   "source": [
    "plt.imshow(center_crop(img))\n",
    "plt.show()"
   ]
  },
  {
   "cell_type": "code",
   "execution_count": 55,
   "id": "6c1d34d0",
   "metadata": {},
   "outputs": [],
   "source": [
    "def np_log_with_sign(ar):\n",
    "    signs = np.sign(ar)\n",
    "    return np.log(np.abs(ar))*signs"
   ]
  },
  {
   "cell_type": "code",
   "execution_count": null,
   "id": "00714841-3e85-4ff6-b4b0-5e33a56e7362",
   "metadata": {},
   "outputs": [],
   "source": []
  },
  {
   "cell_type": "code",
   "execution_count": null,
   "id": "21713336-2118-4c16-9302-51def610b3ae",
   "metadata": {},
   "outputs": [],
   "source": []
  },
  {
   "cell_type": "code",
   "execution_count": 56,
   "id": "538223b3-fb8b-429f-b2d4-15956e121d5f",
   "metadata": {
    "scrolled": true
   },
   "outputs": [
    {
     "name": "stdout",
     "output_type": "stream",
     "text": [
      "\n",
      "image 1/1 /fast/Spacecraft_Pose_Estimation/images/024e86dc87/000.png: 512x640 1 spacecraft0, 21.1ms\n",
      "Speed: 29.2ms preprocess, 21.1ms inference, 424.5ms postprocess per image at shape (1, 3, 512, 640)\n"
     ]
    }
   ],
   "source": [
    "# results = model('/fast/Spacecraft_Pose_Estimation/images/024e86dc87/000.png')\n",
    "results = model.predict(data_path + 'images/024e86dc87/000.png')#, verbose=False\n"
   ]
  },
  {
   "cell_type": "code",
   "execution_count": 57,
   "id": "b64b45b2-9c62-4121-bb88-d4d5a35279fa",
   "metadata": {},
   "outputs": [],
   "source": [
    "# onnx_model = YOLO('best.onnx')\n",
    "# results = onnx_model('/fast/Spacecraft_Pose_Estimation/images/024e86dc87/000.png')"
   ]
  },
  {
   "cell_type": "code",
   "execution_count": 61,
   "id": "ba85e06d-91e1-46f1-86e5-777ada051e94",
   "metadata": {},
   "outputs": [
    {
     "name": "stdout",
     "output_type": "stream",
     "text": [
      "ultralytics.engine.results.Boxes object with attributes:\n",
      "\n",
      "cls: tensor([0.], device='cuda:0')\n",
      "conf: tensor([0.5788], device='cuda:0')\n",
      "data: tensor([[4.0716e+02, 4.3764e+02, 8.9701e+02, 5.5791e+02, 5.7884e-01, 0.0000e+00]], device='cuda:0')\n",
      "id: None\n",
      "is_track: False\n",
      "orig_shape: (1024, 1280)\n",
      "shape: torch.Size([1, 6])\n",
      "xywh: tensor([[652.0836, 497.7752, 489.8571, 120.2764]], device='cuda:0')\n",
      "xywhn: tensor([[0.5094, 0.4861, 0.3827, 0.1175]], device='cuda:0')\n",
      "xyxy: tensor([[407.1550, 437.6370, 897.0121, 557.9134]], device='cuda:0')\n",
      "xyxyn: tensor([[0.3181, 0.4274, 0.7008, 0.5448]], device='cuda:0')\n",
      "(652, 497)\n"
     ]
    }
   ],
   "source": [
    "for result in results:\n",
    "    for box in result.boxes:\n",
    "        print(box)\n",
    "        left, top, right, bottom = np.array(box.xyxy.cpu(), dtype=np.int64).squeeze()\n",
    "        width = right - left\n",
    "        height = bottom - top\n",
    "        center = (left + int((right-left)/2), top + int((bottom-top)/2))\n",
    "\n",
    "        print(center)"
   ]
  },
  {
   "cell_type": "code",
   "execution_count": 62,
   "id": "e2c3f8ff-7e12-41d0-907c-8b7ff433e4d0",
   "metadata": {},
   "outputs": [
    {
     "name": "stdout",
     "output_type": "stream",
     "text": [
      "(652, 497)\n"
     ]
    }
   ],
   "source": [
    "print(center)"
   ]
  },
  {
   "cell_type": "code",
   "execution_count": 63,
   "id": "cc2ddcff-9742-4d75-877a-699ebd3306cc",
   "metadata": {
    "scrolled": true
   },
   "outputs": [
    {
     "data": {
      "image/png": "[encoded data removed]",
      "text/plain": [
       "<Figure size 640x480 with 1 Axes>"
      ]
     },
     "metadata": {},
     "output_type": "display_data"
    },
    {
     "data": {
      "image/png": "[encoded data removed]",
      "text/plain": [
       "<Figure size 640x480 with 1 Axes>"
      ]
     },
     "metadata": {},
     "output_type": "display_data"
    }
   ],
   "source": [
    "def sat_center_crop(img, center=(512, 640), SIZE=384):\n",
    "    y, x = img.shape[:2]\n",
    "    halfS=int(SIZE/2)\n",
    "    y1 = max(0, center[1]-halfS)\n",
    "    y2 = min(y, max(384, center[1]+halfS))\n",
    "    x1 = max(0, center[0]-halfS)\n",
    "    x2 = min(x, max(384, center[0]+halfS))\n",
    "#     print(y2,x2)\n",
    "    return img[y1:y2,x1:x2,:]\n",
    "img=cv2.imread(data_path+'images/024e86dc87/000.png')\n",
    "plt.imshow(sat_center_crop(img))\n",
    "plt.show()\n",
    "plt.imshow(sat_center_crop(img, center=center))\n",
    "plt.show()"
   ]
  },
  {
   "cell_type": "code",
   "execution_count": 64,
   "id": "40d36530-f35e-4abc-ad29-9249958a6587",
   "metadata": {
    "scrolled": true
   },
   "outputs": [
    {
     "name": "stderr",
     "output_type": "stream",
     "text": [
      "100%|██████████| 12273/12273 [11:22<00:00, 17.98it/s]\n"
     ]
    }
   ],
   "source": [
    "sat_center_val = {}\n",
    "for ids in tqdm(val_ids):\n",
    "    for i in range(2):\n",
    "        impath=ids[i]\n",
    "        if impath not in sat_center_val:\n",
    "            try:\n",
    "                results = model(impath, verbose=False)\n",
    "\n",
    "                for result in results:\n",
    "                    for box in result.boxes:\n",
    "                        # print(box)\n",
    "                        left, top, right, bottom = np.array(box.xyxy.cpu(), dtype=np.int64).squeeze()\n",
    "                        width = right - left\n",
    "                        height = bottom - top\n",
    "                        center = (left + int((right-left)/2), top + int((bottom-top)/2))\n",
    "                        # print(center)\n",
    "                        sat_center_val[impath]=center\n",
    "            except:\n",
    "                sat_center_val[impath]=(640, 512)"
   ]
  },
  {
   "cell_type": "code",
   "execution_count": 72,
   "id": "25d32c6c-ce2c-42aa-934e-095050c91889",
   "metadata": {},
   "outputs": [
    {
     "data": {
      "text/plain": [
       "12135"
      ]
     },
     "execution_count": 72,
     "metadata": {},
     "output_type": "execute_result"
    }
   ],
   "source": [
    "len(sat_center_val)"
   ]
  },
  {
   "cell_type": "code",
   "execution_count": 73,
   "id": "aab9efb1-9fd1-4d2f-92ed-0e00980529ba",
   "metadata": {},
   "outputs": [
    {
     "data": {
      "text/html": [
       "<div>\n",
       "<style scoped>\n",
       "    .dataframe tbody tr th:only-of-type {\n",
       "        vertical-align: middle;\n",
       "    }\n",
       "\n",
       "    .dataframe tbody tr th {\n",
       "        vertical-align: top;\n",
       "    }\n",
       "\n",
       "    .dataframe thead th {\n",
       "        text-align: right;\n",
       "    }\n",
       "</style>\n",
       "<table border=\"1\" class=\"dataframe\">\n",
       "  <thead>\n",
       "    <tr style=\"text-align: right;\">\n",
       "      <th></th>\n",
       "      <th>path</th>\n",
       "      <th>centerW</th>\n",
       "      <th>centerH</th>\n",
       "    </tr>\n",
       "  </thead>\n",
       "  <tbody>\n",
       "    <tr>\n",
       "      <th>0</th>\n",
       "      <td>/fast/Spacecraft_Pose_Estimation/images/1f5cc5...</td>\n",
       "      <td>729</td>\n",
       "      <td>525</td>\n",
       "    </tr>\n",
       "    <tr>\n",
       "      <th>1</th>\n",
       "      <td>/fast/Spacecraft_Pose_Estimation/images/1f5cc5...</td>\n",
       "      <td>629</td>\n",
       "      <td>498</td>\n",
       "    </tr>\n",
       "    <tr>\n",
       "      <th>2</th>\n",
       "      <td>/fast/Spacecraft_Pose_Estimation/images/1f5cc5...</td>\n",
       "      <td>573</td>\n",
       "      <td>514</td>\n",
       "    </tr>\n",
       "    <tr>\n",
       "      <th>3</th>\n",
       "      <td>/fast/Spacecraft_Pose_Estimation/images/1f5cc5...</td>\n",
       "      <td>772</td>\n",
       "      <td>507</td>\n",
       "    </tr>\n",
       "    <tr>\n",
       "      <th>4</th>\n",
       "      <td>/fast/Spacecraft_Pose_Estimation/images/1f5cc5...</td>\n",
       "      <td>650</td>\n",
       "      <td>498</td>\n",
       "    </tr>\n",
       "    <tr>\n",
       "      <th>...</th>\n",
       "      <td>...</td>\n",
       "      <td>...</td>\n",
       "      <td>...</td>\n",
       "    </tr>\n",
       "    <tr>\n",
       "      <th>12130</th>\n",
       "      <td>/fast/Spacecraft_Pose_Estimation/images/409fa6...</td>\n",
       "      <td>599</td>\n",
       "      <td>500</td>\n",
       "    </tr>\n",
       "    <tr>\n",
       "      <th>12131</th>\n",
       "      <td>/fast/Spacecraft_Pose_Estimation/images/409fa6...</td>\n",
       "      <td>649</td>\n",
       "      <td>508</td>\n",
       "    </tr>\n",
       "    <tr>\n",
       "      <th>12132</th>\n",
       "      <td>/fast/Spacecraft_Pose_Estimation/images/409fa6...</td>\n",
       "      <td>657</td>\n",
       "      <td>510</td>\n",
       "    </tr>\n",
       "    <tr>\n",
       "      <th>12133</th>\n",
       "      <td>/fast/Spacecraft_Pose_Estimation/images/409fa6...</td>\n",
       "      <td>632</td>\n",
       "      <td>547</td>\n",
       "    </tr>\n",
       "    <tr>\n",
       "      <th>12134</th>\n",
       "      <td>/fast/Spacecraft_Pose_Estimation/images/409fa6...</td>\n",
       "      <td>693</td>\n",
       "      <td>541</td>\n",
       "    </tr>\n",
       "  </tbody>\n",
       "</table>\n",
       "<p>12135 rows × 3 columns</p>\n",
       "</div>"
      ],
      "text/plain": [
       "                                                    path  centerW  centerH\n",
       "0      /fast/Spacecraft_Pose_Estimation/images/1f5cc5...      729      525\n",
       "1      /fast/Spacecraft_Pose_Estimation/images/1f5cc5...      629      498\n",
       "2      /fast/Spacecraft_Pose_Estimation/images/1f5cc5...      573      514\n",
       "3      /fast/Spacecraft_Pose_Estimation/images/1f5cc5...      772      507\n",
       "4      /fast/Spacecraft_Pose_Estimation/images/1f5cc5...      650      498\n",
       "...                                                  ...      ...      ...\n",
       "12130  /fast/Spacecraft_Pose_Estimation/images/409fa6...      599      500\n",
       "12131  /fast/Spacecraft_Pose_Estimation/images/409fa6...      649      508\n",
       "12132  /fast/Spacecraft_Pose_Estimation/images/409fa6...      657      510\n",
       "12133  /fast/Spacecraft_Pose_Estimation/images/409fa6...      632      547\n",
       "12134  /fast/Spacecraft_Pose_Estimation/images/409fa6...      693      541\n",
       "\n",
       "[12135 rows x 3 columns]"
      ]
     },
     "execution_count": 73,
     "metadata": {},
     "output_type": "execute_result"
    }
   ],
   "source": [
    "df=pd.DataFrame(sat_center_val).T.reset_index()\n",
    "df.columns=['path','centerW','centerH']\n",
    "df.to_csv('sat_center_val0.csv',index=False)\n",
    "df"
   ]
  },
  {
   "cell_type": "code",
   "execution_count": null,
   "id": "86859f56-5774-4bb6-91ee-24cefab313bf",
   "metadata": {},
   "outputs": [],
   "source": []
  },
  {
   "cell_type": "code",
   "execution_count": 74,
   "id": "89d7252d-52a1-431e-ae7f-dccfa4cc12bf",
   "metadata": {},
   "outputs": [
    {
     "name": "stderr",
     "output_type": "stream",
     "text": [
      "100%|██████████| 49185/49185 [46:19<00:00, 17.70it/s]  \n"
     ]
    }
   ],
   "source": [
    "sat_center_train = {}\n",
    "for ids in tqdm(train_ids):\n",
    "    for i in range(2):\n",
    "        impath=ids[i]\n",
    "        if impath not in sat_center_train:\n",
    "            try:\n",
    "                results = model(impath, verbose=False)\n",
    "\n",
    "                for result in results:\n",
    "                    for box in result.boxes:\n",
    "                        # print(box)\n",
    "                        left, top, right, bottom = np.array(box.xyxy.cpu(), dtype=np.int64).squeeze()\n",
    "                        width = right - left\n",
    "                        height = bottom - top\n",
    "                        center = (left + int((right-left)/2), top + int((bottom-top)/2))\n",
    "                        # print(center)\n",
    "                        sat_center_train[impath]=center\n",
    "            except:\n",
    "                sat_center_train[impath]=(640, 512)"
   ]
  },
  {
   "cell_type": "code",
   "execution_count": 75,
   "id": "56da6ccb-5d74-4a56-8b0b-68774c15905b",
   "metadata": {},
   "outputs": [
    {
     "data": {
      "text/html": [
       "<div>\n",
       "<style scoped>\n",
       "    .dataframe tbody tr th:only-of-type {\n",
       "        vertical-align: middle;\n",
       "    }\n",
       "\n",
       "    .dataframe tbody tr th {\n",
       "        vertical-align: top;\n",
       "    }\n",
       "\n",
       "    .dataframe thead th {\n",
       "        text-align: right;\n",
       "    }\n",
       "</style>\n",
       "<table border=\"1\" class=\"dataframe\">\n",
       "  <thead>\n",
       "    <tr style=\"text-align: right;\">\n",
       "      <th></th>\n",
       "      <th>path</th>\n",
       "      <th>centerW</th>\n",
       "      <th>centerH</th>\n",
       "    </tr>\n",
       "  </thead>\n",
       "  <tbody>\n",
       "    <tr>\n",
       "      <th>0</th>\n",
       "      <td>/fast/Spacecraft_Pose_Estimation/images/024e86...</td>\n",
       "      <td>652</td>\n",
       "      <td>497</td>\n",
       "    </tr>\n",
       "    <tr>\n",
       "      <th>1</th>\n",
       "      <td>/fast/Spacecraft_Pose_Estimation/images/024e86...</td>\n",
       "      <td>615</td>\n",
       "      <td>517</td>\n",
       "    </tr>\n",
       "    <tr>\n",
       "      <th>2</th>\n",
       "      <td>/fast/Spacecraft_Pose_Estimation/images/024e86...</td>\n",
       "      <td>620</td>\n",
       "      <td>520</td>\n",
       "    </tr>\n",
       "    <tr>\n",
       "      <th>3</th>\n",
       "      <td>/fast/Spacecraft_Pose_Estimation/images/024e86...</td>\n",
       "      <td>616</td>\n",
       "      <td>484</td>\n",
       "    </tr>\n",
       "    <tr>\n",
       "      <th>4</th>\n",
       "      <td>/fast/Spacecraft_Pose_Estimation/images/024e86...</td>\n",
       "      <td>630</td>\n",
       "      <td>500</td>\n",
       "    </tr>\n",
       "    <tr>\n",
       "      <th>...</th>\n",
       "      <td>...</td>\n",
       "      <td>...</td>\n",
       "      <td>...</td>\n",
       "    </tr>\n",
       "    <tr>\n",
       "      <th>48464</th>\n",
       "      <td>/fast/Spacecraft_Pose_Estimation/images/ff8c03...</td>\n",
       "      <td>606</td>\n",
       "      <td>477</td>\n",
       "    </tr>\n",
       "    <tr>\n",
       "      <th>48465</th>\n",
       "      <td>/fast/Spacecraft_Pose_Estimation/images/ff8c03...</td>\n",
       "      <td>638</td>\n",
       "      <td>525</td>\n",
       "    </tr>\n",
       "    <tr>\n",
       "      <th>48466</th>\n",
       "      <td>/fast/Spacecraft_Pose_Estimation/images/ff8c03...</td>\n",
       "      <td>640</td>\n",
       "      <td>506</td>\n",
       "    </tr>\n",
       "    <tr>\n",
       "      <th>48467</th>\n",
       "      <td>/fast/Spacecraft_Pose_Estimation/images/ff8c03...</td>\n",
       "      <td>686</td>\n",
       "      <td>515</td>\n",
       "    </tr>\n",
       "    <tr>\n",
       "      <th>48468</th>\n",
       "      <td>/fast/Spacecraft_Pose_Estimation/images/ff8c03...</td>\n",
       "      <td>631</td>\n",
       "      <td>511</td>\n",
       "    </tr>\n",
       "  </tbody>\n",
       "</table>\n",
       "<p>48469 rows × 3 columns</p>\n",
       "</div>"
      ],
      "text/plain": [
       "                                                    path  centerW  centerH\n",
       "0      /fast/Spacecraft_Pose_Estimation/images/024e86...      652      497\n",
       "1      /fast/Spacecraft_Pose_Estimation/images/024e86...      615      517\n",
       "2      /fast/Spacecraft_Pose_Estimation/images/024e86...      620      520\n",
       "3      /fast/Spacecraft_Pose_Estimation/images/024e86...      616      484\n",
       "4      /fast/Spacecraft_Pose_Estimation/images/024e86...      630      500\n",
       "...                                                  ...      ...      ...\n",
       "48464  /fast/Spacecraft_Pose_Estimation/images/ff8c03...      606      477\n",
       "48465  /fast/Spacecraft_Pose_Estimation/images/ff8c03...      638      525\n",
       "48466  /fast/Spacecraft_Pose_Estimation/images/ff8c03...      640      506\n",
       "48467  /fast/Spacecraft_Pose_Estimation/images/ff8c03...      686      515\n",
       "48468  /fast/Spacecraft_Pose_Estimation/images/ff8c03...      631      511\n",
       "\n",
       "[48469 rows x 3 columns]"
      ]
     },
     "execution_count": 75,
     "metadata": {},
     "output_type": "execute_result"
    }
   ],
   "source": [
    "trdf=pd.DataFrame(sat_center_train).T.reset_index()\n",
    "trdf.columns=['path','centerW','centerH']\n",
    "trdf.to_csv('sat_center_train0.csv',index=False)\n",
    "trdf"
   ]
  },
  {
   "cell_type": "code",
   "execution_count": null,
   "id": "22977312",
   "metadata": {},
   "outputs": [],
   "source": []
  }
 ],
 "metadata": {
  "kernelspec": {
   "display_name": "Python 3 (ipykernel)",
   "language": "python",
   "name": "python3"
  },
  "language_info": {
   "codemirror_mode": {
    "name": "ipython",
    "version": 3
   },
   "file_extension": ".py",
   "mimetype": "text/x-python",
   "name": "python",
   "nbconvert_exporter": "python",
   "pygments_lexer": "ipython3",
   "version": "3.8.0"
  }
 },
 "nbformat": 4,
 "nbformat_minor": 5
}
