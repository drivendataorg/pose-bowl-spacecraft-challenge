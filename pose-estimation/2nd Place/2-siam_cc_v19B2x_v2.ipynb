{
 "cells": [
  {
   "cell_type": "code",
   "execution_count": 19,
   "id": "2218d528-3eca-458c-bc26-b8e9149ea188",
   "metadata": {},
   "outputs": [],
   "source": [
    "import os\n",
    "# os.environ[\"CUDA_VISIBLE_DEVICES\"] = \"0\"\n",
    "\n",
    "import cv2\n",
    "# import tifffile\n",
    "import numpy as np\n",
    "import pandas as pd\n",
    "import matplotlib.pyplot as plt\n",
    "import gc\n",
    "import warnings\n",
    "warnings.filterwarnings(\"ignore\")\n",
    "\n",
    "import random\n",
    "import albumentations\n",
    "\n",
    "import skimage\n",
    "\n",
    "\n",
    "from tqdm import tqdm\n",
    "\n",
    "\n",
    "def create_dir(path):\n",
    "    if os.path.isdir(path)==False:\n",
    "        os.makedirs(path)"
   ]
  },
  {
   "cell_type": "code",
   "execution_count": 20,
   "id": "7127ae15",
   "metadata": {},
   "outputs": [],
   "source": [
    "name='siam_cc_v19B2x'"
   ]
  },
  {
   "cell_type": "code",
   "execution_count": null,
   "id": "355b509e",
   "metadata": {},
   "outputs": [],
   "source": [
    "from pathlib import Path\n",
    "PROJ_DIRECTORY = Path.cwd()"
   ]
  },
  {
   "cell_type": "code",
   "execution_count": 21,
   "id": "ba502438",
   "metadata": {},
   "outputs": [],
   "source": [
    "# Set the training data path\n",
    "data_path= str(PROJ_DIRECTORY / 'datasets' / 'pose') + \"/\""
   ]
  },
  {
   "cell_type": "code",
   "execution_count": 22,
   "id": "f9743c7f",
   "metadata": {},
   "outputs": [
    {
     "data": {
      "text/plain": [
       "((66000, 9), (66000, 3))"
      ]
     },
     "execution_count": 22,
     "metadata": {},
     "output_type": "execute_result"
    }
   ],
   "source": [
    "# read the .csv files\n",
    "train_labels=pd.read_csv('train_labels.csv')\n",
    "rangeDF=pd.read_csv('range.csv')\n",
    "train_labels.shape, rangeDF.shape"
   ]
  },
  {
   "cell_type": "code",
   "execution_count": 57,
   "id": "11493509",
   "metadata": {},
   "outputs": [],
   "source": [
    "# Read centers as predicted from yolo\n",
    "sat_center_val=pd.read_csv('sat_center_val0.csv')\n",
    "sat_center_train=pd.read_csv('sat_center_train0.csv')"
   ]
  },
  {
   "cell_type": "code",
   "execution_count": null,
   "id": "fce2b845",
   "metadata": {},
   "outputs": [],
   "source": []
  },
  {
   "cell_type": "code",
   "execution_count": 23,
   "id": "5a9090c8",
   "metadata": {},
   "outputs": [],
   "source": [
    "NUM_TARGETS=1\n",
    "CENTER_CROP=384\n",
    "RESIZE=384"
   ]
  },
  {
   "cell_type": "code",
   "execution_count": 24,
   "id": "a7fa3843",
   "metadata": {},
   "outputs": [
    {
     "data": {
      "text/html": [
       "<div>\n",
       "<style scoped>\n",
       "    .dataframe tbody tr th:only-of-type {\n",
       "        vertical-align: middle;\n",
       "    }\n",
       "\n",
       "    .dataframe tbody tr th {\n",
       "        vertical-align: top;\n",
       "    }\n",
       "\n",
       "    .dataframe thead th {\n",
       "        text-align: right;\n",
       "    }\n",
       "</style>\n",
       "<table border=\"1\" class=\"dataframe\">\n",
       "  <thead>\n",
       "    <tr style=\"text-align: right;\">\n",
       "      <th></th>\n",
       "      <th>chain_id</th>\n",
       "      <th>i</th>\n",
       "      <th>x</th>\n",
       "      <th>y</th>\n",
       "      <th>z</th>\n",
       "      <th>qw</th>\n",
       "      <th>qx</th>\n",
       "      <th>qy</th>\n",
       "      <th>qz</th>\n",
       "    </tr>\n",
       "  </thead>\n",
       "  <tbody>\n",
       "    <tr>\n",
       "      <th>0</th>\n",
       "      <td>0036465cc6</td>\n",
       "      <td>0</td>\n",
       "      <td>0.000000</td>\n",
       "      <td>0.000000</td>\n",
       "      <td>0.000000</td>\n",
       "      <td>1.000000</td>\n",
       "      <td>0.000000</td>\n",
       "      <td>0.000000</td>\n",
       "      <td>0.000000</td>\n",
       "    </tr>\n",
       "    <tr>\n",
       "      <th>1</th>\n",
       "      <td>0036465cc6</td>\n",
       "      <td>1</td>\n",
       "      <td>0.571732</td>\n",
       "      <td>8.856913</td>\n",
       "      <td>-11.087827</td>\n",
       "      <td>0.996956</td>\n",
       "      <td>-0.046685</td>\n",
       "      <td>-0.046640</td>\n",
       "      <td>-0.041523</td>\n",
       "    </tr>\n",
       "    <tr>\n",
       "      <th>2</th>\n",
       "      <td>0036465cc6</td>\n",
       "      <td>2</td>\n",
       "      <td>-0.014641</td>\n",
       "      <td>2.789255</td>\n",
       "      <td>-5.214775</td>\n",
       "      <td>0.988523</td>\n",
       "      <td>-0.149369</td>\n",
       "      <td>-0.017915</td>\n",
       "      <td>-0.013805</td>\n",
       "    </tr>\n",
       "    <tr>\n",
       "      <th>3</th>\n",
       "      <td>0036465cc6</td>\n",
       "      <td>3</td>\n",
       "      <td>0.585297</td>\n",
       "      <td>-3.229511</td>\n",
       "      <td>6.535775</td>\n",
       "      <td>0.967863</td>\n",
       "      <td>-0.249140</td>\n",
       "      <td>0.025555</td>\n",
       "      <td>0.022740</td>\n",
       "    </tr>\n",
       "    <tr>\n",
       "      <th>4</th>\n",
       "      <td>0036465cc6</td>\n",
       "      <td>4</td>\n",
       "      <td>0.001839</td>\n",
       "      <td>-5.679097</td>\n",
       "      <td>-0.621195</td>\n",
       "      <td>0.927903</td>\n",
       "      <td>-0.371874</td>\n",
       "      <td>-0.009899</td>\n",
       "      <td>0.024641</td>\n",
       "    </tr>\n",
       "  </tbody>\n",
       "</table>\n",
       "</div>"
      ],
      "text/plain": [
       "     chain_id  i         x         y          z        qw        qx        qy  \\\n",
       "0  0036465cc6  0  0.000000  0.000000   0.000000  1.000000  0.000000  0.000000   \n",
       "1  0036465cc6  1  0.571732  8.856913 -11.087827  0.996956 -0.046685 -0.046640   \n",
       "2  0036465cc6  2 -0.014641  2.789255  -5.214775  0.988523 -0.149369 -0.017915   \n",
       "3  0036465cc6  3  0.585297 -3.229511   6.535775  0.967863 -0.249140  0.025555   \n",
       "4  0036465cc6  4  0.001839 -5.679097  -0.621195  0.927903 -0.371874 -0.009899   \n",
       "\n",
       "         qz  \n",
       "0  0.000000  \n",
       "1 -0.041523  \n",
       "2 -0.013805  \n",
       "3  0.022740  \n",
       "4  0.024641  "
      ]
     },
     "execution_count": 24,
     "metadata": {},
     "output_type": "execute_result"
    }
   ],
   "source": [
    "s=train_labels.loc[train_labels.chain_id=='0036465cc6',:]\n",
    "s.head()"
   ]
  },
  {
   "cell_type": "code",
   "execution_count": 25,
   "id": "ef6d304f",
   "metadata": {},
   "outputs": [
    {
     "data": {
      "text/plain": [
       "(1024, 1280, 3)"
      ]
     },
     "execution_count": 25,
     "metadata": {},
     "output_type": "execute_result"
    }
   ],
   "source": [
    "# read 1 image\n",
    "img=cv2.imread(data_path+'images/0036465cc6/000.png')\n",
    "img.shape"
   ]
  },
  {
   "cell_type": "code",
   "execution_count": 26,
   "id": "75b6db73",
   "metadata": {},
   "outputs": [
    {
     "data": {
      "text/plain": [
       "array([0.50849075, 0.52078781, 0.52298737])"
      ]
     },
     "execution_count": 26,
     "metadata": {},
     "output_type": "execute_result"
    }
   ],
   "source": [
    "np.mean(img,(0,1))"
   ]
  },
  {
   "cell_type": "code",
   "execution_count": 28,
   "id": "52044984",
   "metadata": {},
   "outputs": [
    {
     "data": {
      "image/png": "[encoded data removed]",
      "text/plain": [
       "<Figure size 640x480 with 1 Axes>"
      ]
     },
     "metadata": {},
     "output_type": "display_data"
    }
   ],
   "source": [
    "plt.imshow(img[400:-400,500:-500,:])\n",
    "plt.show()"
   ]
  },
  {
   "cell_type": "code",
   "execution_count": 29,
   "id": "1eb4081a",
   "metadata": {
    "scrolled": true
   },
   "outputs": [
    {
     "name": "stderr",
     "output_type": "stream",
     "text": [
      "2024-05-24 14:21:58.795661: I tensorflow/stream_executor/cuda/cuda_gpu_executor.cc:975] successful NUMA node read from SysFS had negative value (-1), but there must be at least one NUMA node, so returning NUMA node zero\n",
      "2024-05-24 14:21:59.285379: I tensorflow/stream_executor/cuda/cuda_gpu_executor.cc:975] successful NUMA node read from SysFS had negative value (-1), but there must be at least one NUMA node, so returning NUMA node zero\n",
      "2024-05-24 14:21:59.286173: I tensorflow/stream_executor/cuda/cuda_gpu_executor.cc:975] successful NUMA node read from SysFS had negative value (-1), but there must be at least one NUMA node, so returning NUMA node zero\n",
      "2024-05-24 14:21:59.286784: W tensorflow/core/common_runtime/gpu/gpu_device.cc:1943] TensorFlow was not built with CUDA kernel binaries compatible with compute capability 6.1. CUDA kernels will be jit-compiled from PTX, which could take 30 minutes or longer.\n",
      "2024-05-24 14:21:59.298152: I tensorflow/core/platform/cpu_feature_guard.cc:193] This TensorFlow binary is optimized with oneAPI Deep Neural Network Library (oneDNN) to use the following CPU instructions in performance-critical operations:  SSE3 SSE4.1 SSE4.2\n",
      "To enable them in other operations, rebuild TensorFlow with the appropriate compiler flags.\n",
      "2024-05-24 14:21:59.306716: I tensorflow/stream_executor/cuda/cuda_gpu_executor.cc:975] successful NUMA node read from SysFS had negative value (-1), but there must be at least one NUMA node, so returning NUMA node zero\n",
      "2024-05-24 14:21:59.307420: I tensorflow/stream_executor/cuda/cuda_gpu_executor.cc:975] successful NUMA node read from SysFS had negative value (-1), but there must be at least one NUMA node, so returning NUMA node zero\n",
      "2024-05-24 14:21:59.308120: I tensorflow/stream_executor/cuda/cuda_gpu_executor.cc:975] successful NUMA node read from SysFS had negative value (-1), but there must be at least one NUMA node, so returning NUMA node zero\n",
      "2024-05-24 14:21:59.309918: W tensorflow/core/common_runtime/gpu/gpu_device.cc:1943] TensorFlow was not built with CUDA kernel binaries compatible with compute capability 6.1. CUDA kernels will be jit-compiled from PTX, which could take 30 minutes or longer.\n",
      "2024-05-24 14:30:04.182154: I tensorflow/stream_executor/cuda/cuda_gpu_executor.cc:975] successful NUMA node read from SysFS had negative value (-1), but there must be at least one NUMA node, so returning NUMA node zero\n",
      "2024-05-24 14:30:04.182899: I tensorflow/stream_executor/cuda/cuda_gpu_executor.cc:975] successful NUMA node read from SysFS had negative value (-1), but there must be at least one NUMA node, so returning NUMA node zero\n",
      "2024-05-24 14:30:04.183602: I tensorflow/stream_executor/cuda/cuda_gpu_executor.cc:975] successful NUMA node read from SysFS had negative value (-1), but there must be at least one NUMA node, so returning NUMA node zero\n",
      "2024-05-24 14:30:04.184298: I tensorflow/core/common_runtime/gpu/gpu_device.cc:1532] Created device /job:localhost/replica:0/task:0/device:GPU:0 with 7388 MB memory:  -> device: 0, name: GeForce GTX 1080, pci bus id: 0000:28:00.0, compute capability: 6.1\n"
     ]
    }
   ],
   "source": [
    "from tensorflow.keras.applications import  EfficientNetB0, EfficientNetB1, DenseNet201, ResNet50\n",
    "\n",
    "backbone=EfficientNetB0(\n",
    "    include_top=False,\n",
    "    weights=\"imagenet\",\n",
    "    input_tensor=None,\n",
    "    input_shape=img.shape,\n",
    "    pooling='avg',\n",
    ")\n"
   ]
  },
  {
   "cell_type": "code",
   "execution_count": 30,
   "id": "17d817c1",
   "metadata": {},
   "outputs": [
    {
     "name": "stderr",
     "output_type": "stream",
     "text": [
      "2024-05-24 14:30:14.233074: I tensorflow/stream_executor/cuda/cuda_dnn.cc:384] Loaded cuDNN version 8700\n"
     ]
    },
    {
     "name": "stdout",
     "output_type": "stream",
     "text": [
      "1/1 [==============================] - 19s 19s/step\n"
     ]
    },
    {
     "data": {
      "text/plain": [
       "(1, 1280)"
      ]
     },
     "execution_count": 30,
     "metadata": {},
     "output_type": "execute_result"
    }
   ],
   "source": [
    "backbone=backbone.predict(np.expand_dims(img,0))\n",
    "backbone.shape"
   ]
  },
  {
   "cell_type": "code",
   "execution_count": 31,
   "id": "94bdacbc",
   "metadata": {},
   "outputs": [],
   "source": [
    "# backbone"
   ]
  },
  {
   "cell_type": "code",
   "execution_count": 23,
   "id": "a5d2c468",
   "metadata": {},
   "outputs": [],
   "source": []
  },
  {
   "cell_type": "code",
   "execution_count": 24,
   "id": "5c6f9dc4",
   "metadata": {
    "scrolled": true
   },
   "outputs": [
    {
     "name": "stdout",
     "output_type": "stream",
     "text": [
      "Model: \"model_1\"\n",
      "__________________________________________________________________________________________________\n",
      " Layer (type)                   Output Shape         Param #     Connected to                     \n",
      "==================================================================================================\n",
      " input_5 (InputLayer)           [(None, 384, 384, 3  0           []                               \n",
      "                                )]                                                                \n",
      "                                                                                                  \n",
      " input_6 (InputLayer)           [(None, 384, 384, 3  0           []                               \n",
      "                                )]                                                                \n",
      "                                                                                                  \n",
      " model (Functional)             (None, 1280)         4049571     ['input_5[0][0]',                \n",
      "                                                                  'input_6[0][0]']                \n",
      "                                                                                                  \n",
      " head (Functional)              (None, 1)            3147777     ['model[0][0]',                  \n",
      "                                                                  'model[1][0]']                  \n",
      "                                                                                                  \n",
      "==================================================================================================\n",
      "Total params: 7,197,348\n",
      "Trainable params: 3,147,777\n",
      "Non-trainable params: 4,049,571\n",
      "__________________________________________________________________________________________________\n"
     ]
    }
   ],
   "source": [
    "#https://www.kaggle.com/martinpiotte/whale-recognition-model-with-score-0-78563\n",
    "import keras\n",
    "from keras import regularizers\n",
    "from keras import backend as K\n",
    "# from keras.preprocessing.image import img_to_array,array_to_img\n",
    "\n",
    "from keras import regularizers\n",
    "from keras.optimizers import Adam\n",
    "from keras.layers import Input\n",
    "from keras.layers import Activation, Add, BatchNormalization, Concatenate, Conv2D, Dense, Flatten\n",
    "from keras.layers import GlobalAveragePooling2D, GlobalMaxPooling2D, Lambda, MaxPooling2D, Reshape, Dropout\n",
    "from keras.models import Model\n",
    "import tensorflow.keras.layers as L\n",
    "\n",
    "from keras.applications.densenet import DenseNet201, preprocess_input\n",
    "\n",
    "\n",
    "img_shape = img.shape#(input_size, input_size, 3)\n",
    "\n",
    "\n",
    "# def build_model(img_shape=(512,512,3), freeze_backbone=False, do=0.2):\n",
    "def build_model(img_shape=(512,512,3), freeze_backbone=True):\n",
    "\n",
    "    ##############\n",
    "    # BRANCH MODEL\n",
    "    ##############\n",
    "\n",
    "    backbone = EfficientNetB0(include_top=False,  weights=\"imagenet\",  input_tensor=None,  input_shape=img_shape,  pooling=None)#     classes=1000,#     classifier_activation=\"softmax\",#     **kwargs)\n",
    "\n",
    "    output = GlobalAveragePooling2D()(backbone.output)\n",
    "#     output = GlobalMaxPooling2D()(backbone.output)\n",
    "    branch_model = Model(backbone.input,output)\n",
    "    if freeze_backbone:\n",
    "        for layer in branch_model.layers:\n",
    "            layer.trainable = False\n",
    "\n",
    "    del backbone\n",
    "\n",
    "    ############\n",
    "    # HEAD MODEL\n",
    "    ############\n",
    "#     mid        = 32\n",
    "    xa_inp     = Input(shape=branch_model.output_shape[1:])\n",
    "    xb_inp     = Input(shape=branch_model.output_shape[1:])\n",
    "\n",
    "    x1         = Lambda(lambda x : x[0] - x[1])([xa_inp, xb_inp])\n",
    "    x2         = Lambda(lambda x : K.square(x), output_shape=x1.shape[1:])(x1)\n",
    "    x          = Concatenate()([x1, x2])\n",
    "    x          = Flatten(name='flatten')(x)\n",
    "\n",
    "    x         = Dropout(0.2)(x)\n",
    "    x         = Dense(1024, activation='relu')(x)\n",
    "    x         = Dropout(0.1)(x)\n",
    "    x         = Dense(512, activation='relu')(x)\n",
    "    # Weighted sum implemented as a Dense layer.\n",
    "    out          = Dense(NUM_TARGETS, activation='linear', name='weighted-average')(x)\n",
    "\n",
    "    head_model = Model([xa_inp, xb_inp], out, name='head')\n",
    "\n",
    "    ########################\n",
    "    # SIAMESE NEURAL NETWORK\n",
    "    ########################\n",
    "    # Complete model is constructed by calling the branch model on each input image,\n",
    "    # and then the head model on the resulting 512-vectors.\n",
    "    img_a      = Input(shape=img_shape)\n",
    "    img_b      = Input(shape=img_shape)\n",
    "    xa         = branch_model(img_a)\n",
    "    xb         = branch_model(img_b)\n",
    "    y          = head_model([xa, xb])\n",
    "\n",
    "\n",
    "    model      = Model([img_a, img_b], y)\n",
    "\n",
    "    return model, branch_model, head_model\n",
    "\n",
    "model, branch_model, head_model = build_model(img_shape=(RESIZE,RESIZE,3), freeze_backbone=True) #64e-5\n",
    "model.summary()"
   ]
  },
  {
   "cell_type": "code",
   "execution_count": null,
   "id": "19a3f52e",
   "metadata": {},
   "outputs": [],
   "source": [
    "# def build_model(img_shape=(512,512,3), freeze_backbone=True):\n",
    "\n",
    "#     ##############\n",
    "#     # BRANCH MODEL\n",
    "#     ##############\n",
    "#     backbone = EfficientNetB0(include_top=False,  weights=\"imagenet\",  input_tensor=None,  input_shape=img_shape,  pooling=None)#     classes=1000,#     classifier_activation=\"softmax\",#     **kwargs)\n",
    "\n",
    "#     output = GlobalAveragePooling2D()(backbone.output)\n",
    "#     branch_model = Model(backbone.input,output)\n",
    "#     if freeze_backbone:\n",
    "#         for layer in branch_model.layers:\n",
    "#             layer.trainable = False\n",
    "#     del backbone\n",
    "\n",
    "#     ############\n",
    "#     # HEAD MODEL\n",
    "#     ############\n",
    "#     xa_inp     = Input(shape=branch_model.output_shape[1:])\n",
    "#     xb_inp     = Input(shape=branch_model.output_shape[1:])\n",
    "\n",
    "#     x1         = Lambda(lambda x : x[0] - x[1])([xa_inp, xb_inp])\n",
    "#     x2         = Lambda(lambda x : K.square(x), output_shape=x1.shape[1:])(x1)\n",
    "#     x          = Concatenate()([x1, x2])\n",
    "#     x          = Flatten(name='flatten')(x)\n",
    "\n",
    "#     x         = Dropout(0.2)(x)\n",
    "#     x         = Dense(1024, activation='relu')(x)\n",
    "#     x         = Dropout(0.1)(x)\n",
    "#     x         = Dense(512, activation='relu')(x)\n",
    "#     out          = Dense(NUM_TARGETS, activation='linear', name='weighted-average')(x)\n",
    "\n",
    "#     head_model = Model([xa_inp, xb_inp], out, name='head')\n",
    "\n",
    "#     ########################\n",
    "#     # SIAMESE NEURAL NETWORK\n",
    "#     ########################\n",
    "#     img_a      = Input(shape=img_shape)\n",
    "#     img_b      = Input(shape=img_shape)\n",
    "#     xa         = branch_model(img_a)\n",
    "#     xb         = branch_model(img_b)\n",
    "#     y          = head_model([xa, xb])\n",
    "\n",
    "#     model      = Model([img_a, img_b], y)\n",
    "\n",
    "#     return model, branch_model, head_model"
   ]
  },
  {
   "cell_type": "code",
   "execution_count": 37,
   "id": "2aaf94e8",
   "metadata": {},
   "outputs": [
    {
     "data": {
      "text/plain": [
       "621"
      ]
     },
     "execution_count": 37,
     "metadata": {},
     "output_type": "execute_result"
    }
   ],
   "source": [
    "cases = os.listdir(data_path+'images')\n",
    "len(cases)"
   ]
  },
  {
   "cell_type": "code",
   "execution_count": 38,
   "id": "6264da27",
   "metadata": {},
   "outputs": [],
   "source": [
    "# np.unique([len(os.listdir(data_path+'images/'+x)) for x in cases],return_counts=True)"
   ]
  },
  {
   "cell_type": "code",
   "execution_count": 39,
   "id": "1196d7d0",
   "metadata": {},
   "outputs": [],
   "source": [
    "# np.where(np.array([len(os.listdir(data_path+'images/'+x)) for x in cases])==83)"
   ]
  },
  {
   "cell_type": "code",
   "execution_count": 40,
   "id": "10f30a80",
   "metadata": {},
   "outputs": [],
   "source": [
    "# cases[492]"
   ]
  },
  {
   "cell_type": "code",
   "execution_count": 41,
   "id": "76509f9d",
   "metadata": {},
   "outputs": [],
   "source": [
    "# len(os.listdir(data_path+'images/'+cases[492]))"
   ]
  },
  {
   "cell_type": "code",
   "execution_count": null,
   "id": "46b31a7c",
   "metadata": {},
   "outputs": [],
   "source": []
  },
  {
   "cell_type": "code",
   "execution_count": 42,
   "id": "d3a3dc36",
   "metadata": {
    "scrolled": true
   },
   "outputs": [],
   "source": [
    "# os.listdir(data_path+'images/'+cases[0])[:5]"
   ]
  },
  {
   "cell_type": "code",
   "execution_count": null,
   "id": "03e47af3",
   "metadata": {},
   "outputs": [
    {
     "data": {
      "text/plain": [
       "(124, 124, 497)"
      ]
     },
     "execution_count": 43,
     "metadata": {},
     "output_type": "execute_result"
    }
   ],
   "source": [
    "# train-val split 80-20\n",
    "np.random.seed(42)\n",
    "val_cases=np.random.choice(cases,int(0.2*(len(cases))), replace=False)\n",
    "train_cases=np.array([x for x in cases if x not in val_cases])\n",
    "len(val_cases),len(np.unique(val_cases)),len(train_cases)"
   ]
  },
  {
   "cell_type": "code",
   "execution_count": 44,
   "id": "83d0ac58",
   "metadata": {},
   "outputs": [],
   "source": [
    "# [x for x in train_cases if x in [cases[492]]]"
   ]
  },
  {
   "cell_type": "code",
   "execution_count": 45,
   "id": "e1158533",
   "metadata": {
    "scrolled": true
   },
   "outputs": [
    {
     "name": "stderr",
     "output_type": "stream",
     "text": [
      "100%|██████████| 124/124 [01:41<00:00,  1.22it/s]\n"
     ]
    },
    {
     "data": {
      "text/plain": [
       "(12276, (12276, 7))"
      ]
     },
     "execution_count": 45,
     "metadata": {},
     "output_type": "execute_result"
    }
   ],
   "source": [
    "val_ids=[]\n",
    "val_targets=[]\n",
    "for c in tqdm(val_cases):\n",
    "    p=data_path+'images/'+c+'/'\n",
    "    if os.path.isdir(p):\n",
    "        all_images=os.listdir(p)\n",
    "        all_images=[x for x in all_images if x not in ['000.png']]\n",
    "        for im in all_images:\n",
    "            val_ids.append([p+'000.png', p+im])\n",
    "            val_targets.append(train_labels.loc[(train_labels.chain_id==c)&(train_labels.i==int(im.split('.')[0])),\n",
    "                                                                        ['x','y','z','qw','qx','qy','qz'] ].values)\n",
    "\n",
    "val_ids=np.vstack(val_ids)\n",
    "val_targets=np.vstack(val_targets)\n",
    "len(val_ids),val_targets.shape"
   ]
  },
  {
   "cell_type": "code",
   "execution_count": 46,
   "id": "831ae921",
   "metadata": {},
   "outputs": [],
   "source": [
    "val_chains=[x[1].split('/')[-2] for x in val_ids]\n",
    "val_chains_i=[int(x[1].split('/')[-1][:-4]) for x in val_ids]\n",
    "ref=pd.DataFrame({'chain_id': np.unique(val_chains)})\n",
    "ref['i']=0\n",
    "ref['x']=0\n",
    "ref['y']=0\n",
    "ref['z']=0\n",
    "ref['qw']=1\n",
    "ref['qx']=0\n",
    "ref['qy']=0\n",
    "ref['qz']=0\n",
    "# train_labels\n",
    "\n",
    "# val_chain_gt_df = pd.DataFrame(np.concatenate((np.expand_dims(val_chains,-1), np.expand_dims(val_chains_i,-1), val_targets),-1))\n",
    "# val_chain_gt_df.columns=train_labels.columns\n",
    "# val_chain_gt_df.iloc[:,1:]=val_chain_gt_df.iloc[:,1:].astype(float)\n",
    "# val_chain_gt_df = pd.concat([val_chain_gt_df, ref]).sort_values(['chain_id','i']).reset_index(drop=True)\n",
    "# val_chain_gt_df.to_csv('val_chain_gt_df.csv',index=False)\n",
    "# val_chain_gt_df\n",
    "# # train_labels"
   ]
  },
  {
   "cell_type": "code",
   "execution_count": null,
   "id": "c6ce319b",
   "metadata": {},
   "outputs": [],
   "source": []
  },
  {
   "cell_type": "code",
   "execution_count": null,
   "id": "4f67a0d8",
   "metadata": {},
   "outputs": [
    {
     "name": "stderr",
     "output_type": "stream",
     "text": [
      "100%|██████████| 497/497 [06:38<00:00,  1.25it/s]\n"
     ]
    },
    {
     "data": {
      "text/plain": [
       "(49186, (49186, 7))"
      ]
     },
     "execution_count": 47,
     "metadata": {},
     "output_type": "execute_result"
    }
   ],
   "source": [
    "train_ids=[]\n",
    "train_targets=[]\n",
    "for c in tqdm(train_cases):\n",
    "    p=data_path+'images/'+c+'/'\n",
    "    if os.path.isdir(p):\n",
    "        all_images=os.listdir(p)\n",
    "        all_images=[x for x in all_images if x not in ['000.png']]\n",
    "        for im in all_images:\n",
    "            train_ids.append([p+'000.png', p+im])\n",
    "            train_targets.append(train_labels.loc[(train_labels.chain_id==c)&(train_labels.i==int(im.split('.')[0])),\n",
    "                                                                        ['x','y','z','qw','qx','qy','qz'] ].values)\n",
    "\n",
    "train_ids=np.vstack(train_ids)\n",
    "train_targets=np.vstack(train_targets)\n",
    "len(train_ids),train_targets.shape\n"
   ]
  },
  {
   "cell_type": "code",
   "execution_count": 37,
   "id": "2970193e",
   "metadata": {},
   "outputs": [],
   "source": [
    "# train_shapes=[]\n",
    "# failed_reading=[]\n",
    "# for c in tqdm(train_cases):\n",
    "#     p=data_path+'images/'+c+'/'\n",
    "#     all_images=os.listdir(p)\n",
    "# #     all_images=[x for x in all_images if x not in ['000.png']]\n",
    "#     for im in all_images:\n",
    "#         try:\n",
    "#             img = cv2.imread(p+im)\n",
    "#             train_shapes.append( [p+im, img.shape])\n",
    "#         except:\n",
    "#             failed_reading.append( p+im)\n",
    "\n",
    "# # np.unique(np.vstack(train_shapes)[:,1])\n",
    "# # array([(1024, 1280, 3)], dtype=object)\n",
    "# # failed_reading\n",
    "# # [data_path + 'images/c7b8e6149d/005.png']"
   ]
  },
  {
   "cell_type": "code",
   "execution_count": 38,
   "id": "20cf27f4",
   "metadata": {},
   "outputs": [],
   "source": [
    "# val_shapes=[]\n",
    "# val_failed_reading=[]\n",
    "# for c in tqdm(val_cases):\n",
    "#     p=data_path+'images/'+c+'/'\n",
    "#     all_images=os.listdir(p)\n",
    "# #     all_images=[x for x in all_images if x not in ['000.png']]\n",
    "#     for im in all_images:\n",
    "#         try:\n",
    "#             img = cv2.imread(p+im)\n",
    "#             val_shapes.append( [p+im, img.shape])\n",
    "#         except:\n",
    "#             val_failed_reading.append( p+im)\n",
    "# # (array([(1024, 1280, 3)], dtype=object),\n",
    "# #  ['/fast/Spacecraft_Pose_Estimation/images/898466710c/059.png',\n",
    "# #   '/fast/Spacecraft_Pose_Estimation/images/575ebc7410/040.png',\n",
    "# #   '/fast/Spacecraft_Pose_Estimation/images/af0973ade8/059.png'])\n",
    "# # for n in val_failed_reading:\n",
    "# #     print(np.where(val_ids[:,1]==n)[0][0])\n",
    "# # 856\n",
    "# # 1285\n",
    "# # 1747\n"
   ]
  },
  {
   "cell_type": "code",
   "execution_count": 39,
   "id": "ac2f9174",
   "metadata": {},
   "outputs": [],
   "source": [
    "# for n in val_failed_reading:\n",
    "#     print(np.where(val_ids[:,1]==n)[0][0])"
   ]
  },
  {
   "cell_type": "code",
   "execution_count": null,
   "id": "1410eccf",
   "metadata": {},
   "outputs": [],
   "source": [
    "# Remove corrupted images"
   ]
  },
  {
   "cell_type": "code",
   "execution_count": 48,
   "id": "13005e96",
   "metadata": {},
   "outputs": [
    {
     "data": {
      "text/plain": [
       "(12273, 12273)"
      ]
     },
     "execution_count": 48,
     "metadata": {},
     "output_type": "execute_result"
    }
   ],
   "source": [
    "removethisids=np.array([[data_path + 'images/c7b8e6149d/000.png', data_path + 'images/c7b8e6149d/005.png'],\n",
    "\n",
    "        [data_path + 'images/898466710c/000.png', data_path + 'images/898466710c/059.png'],\n",
    "        [data_path + 'images/575ebc7410/000.png', data_path + 'images/575ebc7410/040.png'],\n",
    "        [data_path + 'images/af0973ade8/000.png', data_path + 'images/af0973ade8/059.png']])\n",
    "removethisids.shape\n",
    "\n",
    "remove_inds_from_train = []\n",
    "for i in range(len(removethisids)):\n",
    "    try:\n",
    "        remove_inds_from_train.append(np.where(train_ids[:,1]==removethisids[i][1])[0][0])\n",
    "    except:\n",
    "        pass\n",
    "remove_inds_from_val = []\n",
    "for i in range(len(removethisids)):\n",
    "    try:\n",
    "        remove_inds_from_val.append(np.where(val_ids[:,1]==removethisids[i][1])[0][0])\n",
    "    except:\n",
    "        pass\n",
    "remove_inds_from_train, remove_inds_from_val\n",
    "\n",
    "if len(remove_inds_from_train)>0:\n",
    "    train_ids=train_ids[[x for x in range(len(train_ids)) if x not in remove_inds_from_train],:]\n",
    "    train_targets=train_targets[[x for x in range(len(train_targets)) if x not in remove_inds_from_train],:]\n",
    "\n",
    "if len(remove_inds_from_val)>0:\n",
    "    val_ids=val_ids[[x for x in range(len(val_ids)) if x not in remove_inds_from_val],:]\n",
    "    val_targets=val_targets[[x for x in range(len(val_targets)) if x not in remove_inds_from_val],:]\n",
    "\n",
    "\n",
    "train_ids.shape, train_targets.shape, val_ids.shape, val_targets.shape\n",
    "\n",
    "if len(remove_inds_from_val)>0:\n",
    "    val_chains=np.array(val_chains)[[x for x in range(len(val_chains)) if x not in remove_inds_from_val]]\n",
    "    val_chains_i=np.array(val_chains_i)[[x for x in range(len(val_chains_i)) if x not in remove_inds_from_val]]\n",
    "len(val_chains_i),len(val_chains)"
   ]
  },
  {
   "cell_type": "code",
   "execution_count": 32,
   "id": "8702d9b3",
   "metadata": {},
   "outputs": [],
   "source": [
    "# train_ids=train_ids[[x for x in range(len(train_ids)) if x not in [39186]],:]\n",
    "# train_targets=train_targets[[x for x in range(len(train_targets)) if x not in [39186]],:]\n",
    "\n",
    "# val_ids=val_ids[[x for x in range(len(val_ids)) if x not in [856, 1285, 1747]],:]\n",
    "# val_targets=val_targets[[x for x in range(len(val_targets)) if x not in [856, 1285, 1747]],:]\n",
    "\n",
    "\n",
    "# train_ids.shape, train_targets.shape, val_ids.shape, val_targets.shape"
   ]
  },
  {
   "cell_type": "code",
   "execution_count": 33,
   "id": "7b6d9137",
   "metadata": {},
   "outputs": [],
   "source": [
    "# val_chains=np.array(val_chains)[[x for x in range(len(val_chains)) if x not in [856, 1285, 1747]]]\n",
    "# val_chains_i=np.array(val_chains_i)[[x for x in range(len(val_chains_i)) if x not in [856, 1285, 1747]]]\n",
    "# len(val_chains_i),len(val_chains)"
   ]
  },
  {
   "cell_type": "code",
   "execution_count": 49,
   "id": "094b4a8e",
   "metadata": {},
   "outputs": [
    {
     "data": {
      "text/html": [
       "<div>\n",
       "<style scoped>\n",
       "    .dataframe tbody tr th:only-of-type {\n",
       "        vertical-align: middle;\n",
       "    }\n",
       "\n",
       "    .dataframe tbody tr th {\n",
       "        vertical-align: top;\n",
       "    }\n",
       "\n",
       "    .dataframe thead th {\n",
       "        text-align: right;\n",
       "    }\n",
       "</style>\n",
       "<table border=\"1\" class=\"dataframe\">\n",
       "  <thead>\n",
       "    <tr style=\"text-align: right;\">\n",
       "      <th></th>\n",
       "      <th>chain_id</th>\n",
       "      <th>i</th>\n",
       "      <th>x</th>\n",
       "      <th>y</th>\n",
       "      <th>z</th>\n",
       "      <th>qw</th>\n",
       "      <th>qx</th>\n",
       "      <th>qy</th>\n",
       "      <th>qz</th>\n",
       "    </tr>\n",
       "  </thead>\n",
       "  <tbody>\n",
       "    <tr>\n",
       "      <th>0</th>\n",
       "      <td>031dbad3c0</td>\n",
       "      <td>0</td>\n",
       "      <td>0</td>\n",
       "      <td>0</td>\n",
       "      <td>0</td>\n",
       "      <td>1</td>\n",
       "      <td>0</td>\n",
       "      <td>0</td>\n",
       "      <td>0</td>\n",
       "    </tr>\n",
       "    <tr>\n",
       "      <th>1</th>\n",
       "      <td>031dbad3c0</td>\n",
       "      <td>1.0</td>\n",
       "      <td>12.114075</td>\n",
       "      <td>-78.491692</td>\n",
       "      <td>-11.749588</td>\n",
       "      <td>0.990646</td>\n",
       "      <td>0.040924</td>\n",
       "      <td>-0.013321</td>\n",
       "      <td>0.129492</td>\n",
       "    </tr>\n",
       "    <tr>\n",
       "      <th>2</th>\n",
       "      <td>031dbad3c0</td>\n",
       "      <td>2.0</td>\n",
       "      <td>7.685059</td>\n",
       "      <td>-65.040146</td>\n",
       "      <td>-11.8153</td>\n",
       "      <td>0.993682</td>\n",
       "      <td>0.037831</td>\n",
       "      <td>-0.012172</td>\n",
       "      <td>0.104963</td>\n",
       "    </tr>\n",
       "    <tr>\n",
       "      <th>3</th>\n",
       "      <td>031dbad3c0</td>\n",
       "      <td>3.0</td>\n",
       "      <td>17.884277</td>\n",
       "      <td>-97.27285</td>\n",
       "      <td>-10.788047</td>\n",
       "      <td>0.985571</td>\n",
       "      <td>0.048023</td>\n",
       "      <td>-0.016243</td>\n",
       "      <td>0.161491</td>\n",
       "    </tr>\n",
       "    <tr>\n",
       "      <th>4</th>\n",
       "      <td>031dbad3c0</td>\n",
       "      <td>4.0</td>\n",
       "      <td>6.934784</td>\n",
       "      <td>-54.452129</td>\n",
       "      <td>-8.48818</td>\n",
       "      <td>0.991626</td>\n",
       "      <td>0.094688</td>\n",
       "      <td>-0.003965</td>\n",
       "      <td>0.087727</td>\n",
       "    </tr>\n",
       "    <tr>\n",
       "      <th>...</th>\n",
       "      <td>...</td>\n",
       "      <td>...</td>\n",
       "      <td>...</td>\n",
       "      <td>...</td>\n",
       "      <td>...</td>\n",
       "      <td>...</td>\n",
       "      <td>...</td>\n",
       "      <td>...</td>\n",
       "      <td>...</td>\n",
       "    </tr>\n",
       "    <tr>\n",
       "      <th>12392</th>\n",
       "      <td>fe8bbecd83</td>\n",
       "      <td>95.0</td>\n",
       "      <td>35.061722</td>\n",
       "      <td>9.433044</td>\n",
       "      <td>-131.909546</td>\n",
       "      <td>0.966501</td>\n",
       "      <td>0.024006</td>\n",
       "      <td>-0.254768</td>\n",
       "      <td>-0.019803</td>\n",
       "    </tr>\n",
       "    <tr>\n",
       "      <th>12393</th>\n",
       "      <td>fe8bbecd83</td>\n",
       "      <td>96.0</td>\n",
       "      <td>45.657578</td>\n",
       "      <td>25.128151</td>\n",
       "      <td>-145.975113</td>\n",
       "      <td>0.955316</td>\n",
       "      <td>0.052766</td>\n",
       "      <td>-0.287164</td>\n",
       "      <td>-0.046076</td>\n",
       "    </tr>\n",
       "    <tr>\n",
       "      <th>12394</th>\n",
       "      <td>fe8bbecd83</td>\n",
       "      <td>97.0</td>\n",
       "      <td>40.431274</td>\n",
       "      <td>-11.17926</td>\n",
       "      <td>-141.36113</td>\n",
       "      <td>0.952461</td>\n",
       "      <td>0.140735</td>\n",
       "      <td>-0.265455</td>\n",
       "      <td>0.050442</td>\n",
       "    </tr>\n",
       "    <tr>\n",
       "      <th>12395</th>\n",
       "      <td>fe8bbecd83</td>\n",
       "      <td>98.0</td>\n",
       "      <td>42.742828</td>\n",
       "      <td>-7.558107</td>\n",
       "      <td>-143.729889</td>\n",
       "      <td>0.949211</td>\n",
       "      <td>0.152283</td>\n",
       "      <td>-0.271309</td>\n",
       "      <td>0.046901</td>\n",
       "    </tr>\n",
       "    <tr>\n",
       "      <th>12396</th>\n",
       "      <td>fe8bbecd83</td>\n",
       "      <td>99.0</td>\n",
       "      <td>41.57872</td>\n",
       "      <td>-18.097555</td>\n",
       "      <td>-141.439423</td>\n",
       "      <td>0.948123</td>\n",
       "      <td>0.165659</td>\n",
       "      <td>-0.262355</td>\n",
       "      <td>0.069214</td>\n",
       "    </tr>\n",
       "  </tbody>\n",
       "</table>\n",
       "<p>12397 rows × 9 columns</p>\n",
       "</div>"
      ],
      "text/plain": [
       "         chain_id     i          x          y           z        qw        qx  \\\n",
       "0      031dbad3c0     0          0          0           0         1         0   \n",
       "1      031dbad3c0   1.0  12.114075 -78.491692  -11.749588  0.990646  0.040924   \n",
       "2      031dbad3c0   2.0   7.685059 -65.040146    -11.8153  0.993682  0.037831   \n",
       "3      031dbad3c0   3.0  17.884277  -97.27285  -10.788047  0.985571  0.048023   \n",
       "4      031dbad3c0   4.0   6.934784 -54.452129    -8.48818  0.991626  0.094688   \n",
       "...           ...   ...        ...        ...         ...       ...       ...   \n",
       "12392  fe8bbecd83  95.0  35.061722   9.433044 -131.909546  0.966501  0.024006   \n",
       "12393  fe8bbecd83  96.0  45.657578  25.128151 -145.975113  0.955316  0.052766   \n",
       "12394  fe8bbecd83  97.0  40.431274  -11.17926  -141.36113  0.952461  0.140735   \n",
       "12395  fe8bbecd83  98.0  42.742828  -7.558107 -143.729889  0.949211  0.152283   \n",
       "12396  fe8bbecd83  99.0   41.57872 -18.097555 -141.439423  0.948123  0.165659   \n",
       "\n",
       "             qy        qz  \n",
       "0             0         0  \n",
       "1     -0.013321  0.129492  \n",
       "2     -0.012172  0.104963  \n",
       "3     -0.016243  0.161491  \n",
       "4     -0.003965  0.087727  \n",
       "...         ...       ...  \n",
       "12392 -0.254768 -0.019803  \n",
       "12393 -0.287164 -0.046076  \n",
       "12394 -0.265455  0.050442  \n",
       "12395 -0.271309  0.046901  \n",
       "12396 -0.262355  0.069214  \n",
       "\n",
       "[12397 rows x 9 columns]"
      ]
     },
     "execution_count": 49,
     "metadata": {},
     "output_type": "execute_result"
    }
   ],
   "source": [
    "val_chain_gt_df = pd.DataFrame(np.concatenate((np.expand_dims(val_chains,-1), np.expand_dims(val_chains_i,-1), val_targets),-1))\n",
    "val_chain_gt_df.columns=train_labels.columns\n",
    "val_chain_gt_df.iloc[:,1:]=val_chain_gt_df.iloc[:,1:].astype(float)\n",
    "val_chain_gt_df = pd.concat([val_chain_gt_df, ref]).sort_values(['chain_id','i']).reset_index(drop=True)\n",
    "val_chain_gt_df.to_csv('val_chain_gt_df.csv',index=False)\n",
    "val_chain_gt_df\n",
    "# train_labels"
   ]
  },
  {
   "cell_type": "code",
   "execution_count": 50,
   "id": "53cdaab1",
   "metadata": {},
   "outputs": [],
   "source": [
    "# from keras.preprocessing import img_to_array,array_to_img"
   ]
  },
  {
   "cell_type": "code",
   "execution_count": 51,
   "id": "c999c855",
   "metadata": {},
   "outputs": [],
   "source": [
    "# train_ids"
   ]
  },
  {
   "cell_type": "code",
   "execution_count": null,
   "id": "95d93db0",
   "metadata": {},
   "outputs": [],
   "source": []
  },
  {
   "cell_type": "code",
   "execution_count": 52,
   "id": "7db51010",
   "metadata": {},
   "outputs": [
    {
     "data": {
      "text/plain": [
       "((1024, 1280, 3), (384, 384, 3))"
      ]
     },
     "execution_count": 52,
     "metadata": {},
     "output_type": "execute_result"
    }
   ],
   "source": [
    "def center_crop(img, final_size=CENTER_CROP):\n",
    "    y, x = img.shape[:2]\n",
    "    y2 = max(0, int(y/2-final_size/2))\n",
    "    x2 = max(0, int(x/2-final_size/2))\n",
    "#     print(y2,x2)\n",
    "    return img[y2:-y2,x2:-x2,:]\n",
    "img.shape, center_crop(img).shape"
   ]
  },
  {
   "cell_type": "code",
   "execution_count": 53,
   "id": "3fa7bbac",
   "metadata": {},
   "outputs": [
    {
     "data": {
      "image/png": "[encoded data removed]",
      "text/plain": [
       "<Figure size 640x480 with 1 Axes>"
      ]
     },
     "metadata": {},
     "output_type": "display_data"
    }
   ],
   "source": [
    "plt.imshow(center_crop(img))\n",
    "plt.show()"
   ]
  },
  {
   "cell_type": "code",
   "execution_count": 54,
   "id": "6c1d34d0",
   "metadata": {},
   "outputs": [],
   "source": [
    "def np_log_with_sign(ar):\n",
    "    signs = np.sign(ar)\n",
    "    return np.log(np.abs(ar))*signs"
   ]
  },
  {
   "cell_type": "code",
   "execution_count": null,
   "id": "22977312",
   "metadata": {},
   "outputs": [],
   "source": []
  },
  {
   "cell_type": "code",
   "execution_count": 58,
   "id": "a9909ea0",
   "metadata": {},
   "outputs": [
    {
     "data": {
      "text/plain": [
       "(60604, 3)"
      ]
     },
     "execution_count": 58,
     "metadata": {},
     "output_type": "execute_result"
    }
   ],
   "source": [
    "sat_center=pd.concat([sat_center_train,sat_center_val]).reset_index(drop=True)\n",
    "sat_center.shape"
   ]
  },
  {
   "cell_type": "code",
   "execution_count": 59,
   "id": "969419bf",
   "metadata": {},
   "outputs": [],
   "source": [
    "# sat_center.path.unique().shape"
   ]
  },
  {
   "cell_type": "code",
   "execution_count": 60,
   "id": "1e2b7a66",
   "metadata": {},
   "outputs": [],
   "source": [
    "sat_center_paths=sat_center.path.values"
   ]
  },
  {
   "cell_type": "code",
   "execution_count": 62,
   "id": "8d374148",
   "metadata": {},
   "outputs": [],
   "source": [
    "# for sp in sat_center_paths:\n",
    "#     x,y=sat_center.loc[sat_center.path==sp,['centerW','centerH']].values[0]\n",
    "# #     print(sp, x, y)"
   ]
  },
  {
   "cell_type": "code",
   "execution_count": 63,
   "id": "df05d4f9",
   "metadata": {},
   "outputs": [],
   "source": [
    "# sat_center.loc[sat_center.path=='/fast/Spacecraft_Pose_Estimation/images/024e86dc87/000.png',['centerW','centerH']].values.shape"
   ]
  },
  {
   "cell_type": "code",
   "execution_count": 64,
   "id": "3214ef52",
   "metadata": {},
   "outputs": [],
   "source": [
    "def sat_center_crop(img, center=(512, 640), SIZE=384):\n",
    "    y, x = img.shape[:2]\n",
    "    halfS=int(SIZE/2)\n",
    "    y1 = min(y-384, max(0, center[0]-halfS))\n",
    "    y2 = min(y, max(384, center[0]+halfS))\n",
    "    x1 = min(x-384, max(0, center[1]-halfS))\n",
    "    x2 = min(x, max(384, center[1]+halfS))\n",
    "#     print(y2,x2)\n",
    "#     print(y1,y2,x1,x2)\n",
    "    return img[y1:y2,x1:x2,:]"
   ]
  },
  {
   "cell_type": "code",
   "execution_count": null,
   "id": "62629998",
   "metadata": {},
   "outputs": [],
   "source": []
  },
  {
   "cell_type": "code",
   "execution_count": 65,
   "id": "1400565b",
   "metadata": {},
   "outputs": [],
   "source": [
    "# data_path+'images/0036465cc6/000.png'\n",
    "# t=sat_center.loc[sat_center.path=='/fast/Spacecraft_Pose_Estimation/images/0036465cc6/000.png',['centerW','centerH']].values\n",
    "# if t.shape[0]==1:\n",
    "#     centerW, centerH = t[0]\n",
    "# else:\n",
    "#     centerW, centerH = 640, 512\n",
    "# plt.imshow(sat_center_crop(img, (centerH, centerW)))\n",
    "# plt.show()\n",
    "# centerW, centerH"
   ]
  },
  {
   "cell_type": "code",
   "execution_count": 66,
   "id": "3a64553d",
   "metadata": {},
   "outputs": [],
   "source": [
    "# shapes=[]\n",
    "# for tid in tqdm(train_ids):\n",
    "#     img1 = cv2.imread(tid[1])\n",
    "#     if tid[1] in sat_center_paths:\n",
    "#         t=sat_center.loc[sat_center.path==tid[1],['centerW','centerH']].values\n",
    "#         if t.shape[0]==1:\n",
    "#             centerW, centerH = t[0]\n",
    "#         else:\n",
    "#             centerW, centerH = 640, 512\n",
    "#         #                     print(centerW, centerH)\n",
    "#         img1 = sat_center_crop(img1, center=( centerH, centerW))\n",
    "#         s=img1.shape\n",
    "#         shapes.append(s)\n",
    "# #         print(s)\n",
    "#         if s != (384,384,3):\n",
    "#             break"
   ]
  },
  {
   "cell_type": "code",
   "execution_count": 67,
   "id": "627bcc40",
   "metadata": {},
   "outputs": [],
   "source": [
    "# img1 = cv2.imread(tid[1])\n",
    "# if tid[1] in sat_center_paths:\n",
    "#     t=sat_center.loc[sat_center.path==tid[1],['centerW','centerH']].values\n",
    "#     if t.shape[0]==1:\n",
    "#         centerW, centerH = t[0]\n",
    "#     else:\n",
    "#         centerW, centerH = 640, 512\n",
    "#     #                     print(centerW, centerH)\n",
    "#     img1 = sat_center_crop(img1, center=( centerH, centerW))\n",
    "#     s=img1.shape\n",
    "# s"
   ]
  },
  {
   "cell_type": "code",
   "execution_count": 68,
   "id": "0dc9a39f",
   "metadata": {
    "scrolled": true
   },
   "outputs": [],
   "source": [
    "# img1 = cv2.imread(tid[1])\n",
    "# plt.imshow(sat_center_crop(img1, (centerH, centerW)))\n",
    "# plt.show()\n",
    "\n",
    "# centerH, centerW, img1.shape, s\n"
   ]
  },
  {
   "cell_type": "code",
   "execution_count": 69,
   "id": "18958209",
   "metadata": {},
   "outputs": [],
   "source": [
    "# img1.shape"
   ]
  },
  {
   "cell_type": "code",
   "execution_count": null,
   "id": "db77d8bc",
   "metadata": {},
   "outputs": [],
   "source": []
  },
  {
   "cell_type": "code",
   "execution_count": 70,
   "id": "b7031a32",
   "metadata": {},
   "outputs": [],
   "source": [
    "def data_generator_siam(ids, labels):\n",
    "#     replacement=True #no other way possible\n",
    "    #best ratio one of 1,2,3,\n",
    "#     IMAGE0 = zerolabelnum\n",
    "#     batch_size_multiplier = int(16/(zerolabelnum+1))\n",
    "    while True:\n",
    "        for start in range(0, len(ids), batch_size):\n",
    "            x1_batch = []\n",
    "            x2_batch = []\n",
    "            y_batch = []\n",
    "            end = min(start + batch_size, len(ids))\n",
    "            ids_batch_ = ids[start:end]\n",
    "            y_batch = labels[start:end,:].copy()\n",
    "\n",
    "            y_batch = y_batch[:,0]\n",
    "\n",
    "\n",
    "            for id_i in ids_batch_:\n",
    "\n",
    "                img1 = cv2.imread(id_i[0])\n",
    "                if id_i[0] in sat_center_paths:\n",
    "                    t=sat_center.loc[sat_center.path==id_i[0],['centerW','centerH']].values\n",
    "                    if t.shape[0]==1:\n",
    "                        centerW, centerH = t[0]\n",
    "                    else:\n",
    "                        centerW, centerH = 640, 512\n",
    "                    img1 = sat_center_crop(img1, center=( centerH, centerW))\n",
    "                else:\n",
    "                    img1 = center_crop(img1)\n",
    "                img2 = cv2.imread(id_i[1])\n",
    "                if id_i[1] in sat_center_paths:\n",
    "                    t=sat_center.loc[sat_center.path==id_i[1],['centerW','centerH']].values\n",
    "                    if t.shape[0]==1:\n",
    "                        centerW, centerH = t[0]\n",
    "                    else:\n",
    "                        centerW, centerH = 640, 512\n",
    "\n",
    "                    img2 = sat_center_crop(img2, center=( centerH, centerW))\n",
    "                else:\n",
    "                    img2 = center_crop(img2)\n",
    "                x1_batch.append(img1)\n",
    "                x2_batch.append(img2)\n",
    "\n",
    "            x1_batch = np.array(x1_batch, np.float32) #/ 255\n",
    "            x2_batch = np.array(x2_batch, np.float32) #/ 255\n",
    "\n",
    "            yield [x1_batch.astype('uint8'), x2_batch.astype('uint8')], y_batch\n"
   ]
  },
  {
   "cell_type": "code",
   "execution_count": null,
   "id": "7f9b35ec",
   "metadata": {},
   "outputs": [],
   "source": []
  },
  {
   "cell_type": "code",
   "execution_count": null,
   "id": "82a0356e",
   "metadata": {},
   "outputs": [],
   "source": []
  },
  {
   "cell_type": "code",
   "execution_count": 71,
   "id": "0deb3d20",
   "metadata": {},
   "outputs": [],
   "source": [
    "epochs = 20\n",
    "snapshots = 1\n",
    "lr_0 = 0.0001\n",
    "def cosine_anneal_schedule(t):\n",
    "    cos_inner = np.pi * (t % (epochs // snapshots))\n",
    "    cos_inner /= epochs // snapshots\n",
    "    cos_out = np.cos(cos_inner) + 1\n",
    "    return float(lr_0 / 2 * cos_out)\n",
    "cosine_anneal_schedule_list=[cosine_anneal_schedule(x) for x in range(epochs)]\n",
    "\n",
    "# np.array(cosine_anneal_schedule_list)"
   ]
  },
  {
   "cell_type": "code",
   "execution_count": 72,
   "id": "9ef60275",
   "metadata": {},
   "outputs": [],
   "source": [
    "def lrfn(epoch):\n",
    "    return cosine_anneal_schedule_list[epoch]\n",
    "def np_exp_with_sign(ar):\n",
    "    signs = np.sign(ar)\n",
    "    return np.exp(np.abs(ar))*signs"
   ]
  },
  {
   "cell_type": "code",
   "execution_count": null,
   "id": "ac09c0be",
   "metadata": {
    "scrolled": true
   },
   "outputs": [],
   "source": [
    "from keras.callbacks import EarlyStopping, ReduceLROnPlateau, ModelCheckpoint, TensorBoard\n",
    "import tensorflow as tf\n",
    "import subprocess\n",
    "\n",
    "weightsname=name+'.hdf5'\n",
    "text_name = 'logs/'+name+'.txt'\n",
    "\n",
    "\n",
    "batch_size = 4\n",
    "for cycle in range(epochs):\n",
    "\n",
    "    model.compile(Adam(lr=cosine_anneal_schedule_list[cycle]), loss='mean_absolute_percentage_error')\n",
    "\n",
    "    h = model.fit_generator(data_generator_siam(train_ids, train_targets),\n",
    "                            steps_per_epoch = np.ceil(len(train_ids)/batch_size),\n",
    "                            epochs=1,\n",
    "                            verbose=1)\n",
    "    val_preds=model.predict( data_generator_siam(val_ids, val_targets),\n",
    "                        steps=np.ceil(len(val_ids)/batch_size),\n",
    "                       batch_size=batch_size)\n",
    "    val_predsD=np.concatenate((val_preds,np.zeros((len(val_preds),6))),1)\n",
    "\n",
    "    val_predsD[:,0] = np.clip(val_predsD[:,0], 0, 100)\n",
    "    val_predsD[:,1:3] = np.clip(val_predsD[:,1:3], 0, 0)\n",
    "\n",
    "    val_predsD[:,3:] = [1,0,0,0]\n",
    "\n",
    "    val_chain_preds_df = pd.DataFrame(np.concatenate((np.expand_dims(val_chains,-1), np.expand_dims(val_chains_i,-1), val_predsD),-1))\n",
    "    val_chain_preds_df.columns=train_labels.columns#[1:]\n",
    "    val_chain_preds_df.iloc[:,1:]=val_chain_preds_df.iloc[:,1:].astype(float)\n",
    "    val_chain_preds_df = pd.concat([val_chain_preds_df, ref]).sort_values(['chain_id','i']).reset_index(drop=True)\n",
    "\n",
    "    val_chain_preds_df.to_csv('val_chain_preds_'+name+'.csv',index=False)\n",
    "\n",
    "    result = subprocess.run(['python','score.py', 'val_chain_preds_'+name+'.csv', 'val_chain_gt_df.csv'],\n",
    "                            stdout=subprocess.PIPE)\n",
    "    with open(text_name, \"a\") as text_file:\n",
    "        text_file.write(result.stdout.decode('utf-8'))\n",
    "\n",
    "    model.save_weights('weights/ep'+str(cycle)+weightsname)\n",
    "\n",
    "\n",
    "with open(text_name, \"a\") as text_file:\n",
    "    text_file.write('\\n')\n"
   ]
  },
  {
   "cell_type": "code",
   "execution_count": null,
   "id": "cd20e44d",
   "metadata": {},
   "outputs": [],
   "source": []
  },
  {
   "cell_type": "code",
   "execution_count": null,
   "id": "febb7c9d",
   "metadata": {},
   "outputs": [],
   "source": [
    "from keras.callbacks import EarlyStopping, ReduceLROnPlateau, ModelCheckpoint, TensorBoard\n",
    "import tensorflow as tf\n",
    "import subprocess\n",
    "\n",
    "weightsname=name+'.hdf5'\n",
    "text_name = 'logs/'+name+'.txt'\n",
    "\n",
    "batch_size = 4\n",
    "for cycle in range(20,20+epochs):\n",
    "\n",
    "    model.compile(Adam(lr=cosine_anneal_schedule_list[cycle-20]), loss='mean_absolute_percentage_error')\n",
    "\n",
    "    h = model.fit_generator(data_generator_siam(train_ids, train_targets),\n",
    "                            steps_per_epoch = np.ceil(len(train_ids)/batch_size),\n",
    "                            epochs=1,\n",
    "                            verbose=1)\n",
    "    val_preds=model.predict( data_generator_siam(val_ids, val_targets),\n",
    "                        steps=np.ceil(len(val_ids)/batch_size),\n",
    "                       batch_size=batch_size)\n",
    "    val_predsD=np.concatenate((val_preds,np.zeros((len(val_preds),6))),1)\n",
    "\n",
    "    val_predsD[:,0] = np.clip(val_predsD[:,0], 0, 400)\n",
    "    val_predsD[:,1:3] = np.clip(val_predsD[:,1:3], 0, 0)\n",
    "\n",
    "    val_predsD[:,3:] = [1,0,0,0]\n",
    "\n",
    "    val_chain_preds_df = pd.DataFrame(np.concatenate((np.expand_dims(val_chains,-1), np.expand_dims(val_chains_i,-1), val_predsD),-1))\n",
    "    val_chain_preds_df.columns=train_labels.columns#[1:]\n",
    "    val_chain_preds_df.iloc[:,1:]=val_chain_preds_df.iloc[:,1:].astype(float)\n",
    "    val_chain_preds_df = pd.concat([val_chain_preds_df, ref]).sort_values(['chain_id','i']).reset_index(drop=True)\n",
    "\n",
    "    val_chain_preds_df.to_csv('val_chain_preds_'+name+'.csv',index=False)\n",
    "\n",
    "    result = subprocess.run(['python','score.py', 'val_chain_preds_'+name+'.csv', 'val_chain_gt_df.csv'],\n",
    "                            stdout=subprocess.PIPE)\n",
    "    with open(text_name, \"a\") as text_file:\n",
    "        text_file.write(result.stdout.decode('utf-8'))\n",
    "\n",
    "    model.save_weights('weights/ep'+str(cycle)+weightsname)\n",
    "\n",
    "\n",
    "with open(text_name, \"a\") as text_file:\n",
    "    text_file.write('\\n')\n"
   ]
  },
  {
   "cell_type": "code",
   "execution_count": null,
   "id": "ef1bfbb3",
   "metadata": {},
   "outputs": [],
   "source": []
  },
  {
   "cell_type": "code",
   "execution_count": null,
   "id": "e0f39948",
   "metadata": {},
   "outputs": [],
   "source": [
    "from keras.callbacks import EarlyStopping, ReduceLROnPlateau, ModelCheckpoint, TensorBoard\n",
    "import tensorflow as tf\n",
    "import subprocess\n",
    "\n",
    "weightsname=name+'b.hdf5'\n",
    "text_name = 'logs/'+name+'.txt'\n",
    "\n",
    "batch_size = 4\n",
    "for cycle in range(40,40+epochs):\n",
    "\n",
    "    model.compile(Adam(lr=cosine_anneal_schedule_list[cycle-40]), loss='mean_absolute_percentage_error')\n",
    "\n",
    "    h = model.fit_generator(data_generator_siam(train_ids, train_targets),\n",
    "                            steps_per_epoch = np.ceil(len(train_ids)/batch_size),\n",
    "                            epochs=1,\n",
    "                            verbose=1)\n",
    "    val_preds=model.predict( data_generator_siam(val_ids, val_targets),\n",
    "                        steps=np.ceil(len(val_ids)/batch_size),\n",
    "                       batch_size=batch_size)\n",
    "    val_predsD=np.concatenate((val_preds,np.zeros((len(val_preds),6))),1)\n",
    "\n",
    "    val_predsD[:,0] = np.clip(val_predsD[:,0], 0, 100)\n",
    "    val_predsD[:,1:3] = np.clip(val_predsD[:,1:3], 0, 0)\n",
    "\n",
    "    val_predsD[:,3:] = [1,0,0,0]\n",
    "\n",
    "    val_chain_preds_df = pd.DataFrame(np.concatenate((np.expand_dims(val_chains,-1), np.expand_dims(val_chains_i,-1), val_predsD),-1))\n",
    "    val_chain_preds_df.columns=train_labels.columns#[1:]\n",
    "    val_chain_preds_df.iloc[:,1:]=val_chain_preds_df.iloc[:,1:].astype(float)\n",
    "    val_chain_preds_df = pd.concat([val_chain_preds_df, ref]).sort_values(['chain_id','i']).reset_index(drop=True)\n",
    "\n",
    "    val_chain_preds_df.to_csv('val_chain_preds_'+name+'.csv',index=False)\n",
    "\n",
    "    result = subprocess.run(['python','score.py', 'val_chain_preds_'+name+'.csv', 'val_chain_gt_df.csv'],\n",
    "                            stdout=subprocess.PIPE)\n",
    "    with open(text_name, \"a\") as text_file:\n",
    "        text_file.write(result.stdout.decode('utf-8'))\n",
    "\n",
    "    model.save_weights('weights/ep'+str(cycle)+weightsname)\n",
    "\n",
    "\n",
    "with open(text_name, \"a\") as text_file:\n",
    "    text_file.write('\\n')\n"
   ]
  },
  {
   "cell_type": "code",
   "execution_count": null,
   "id": "7ee43b55",
   "metadata": {},
   "outputs": [],
   "source": []
  },
  {
   "cell_type": "code",
   "execution_count": null,
   "id": "44ed0765",
   "metadata": {},
   "outputs": [],
   "source": [
    "from keras.callbacks import EarlyStopping, ReduceLROnPlateau, ModelCheckpoint, TensorBoard\n",
    "import tensorflow as tf\n",
    "import subprocess\n",
    "\n",
    "weightsname=name+'b.hdf5'\n",
    "text_name = 'logs/'+name+'.txt'\n",
    "\n",
    "batch_size = 4\n",
    "for cycle in range(60,60+epochs):\n",
    "\n",
    "    model.compile(Adam(lr=cosine_anneal_schedule_list[cycle-60]), loss='mean_absolute_percentage_error')\n",
    "\n",
    "    h = model.fit_generator(data_generator_siam(train_ids, train_targets),\n",
    "                            steps_per_epoch = np.ceil(len(train_ids)/batch_size),\n",
    "                            epochs=1,\n",
    "                            verbose=1)\n",
    "    val_preds=model.predict( data_generator_siam(val_ids, val_targets),\n",
    "                        steps=np.ceil(len(val_ids)/batch_size),\n",
    "                       batch_size=batch_size)\n",
    "    val_predsD=np.concatenate((val_preds,np.zeros((len(val_preds),6))),1)\n",
    "\n",
    "    val_predsD[:,0] = np.clip(val_predsD[:,0], 0, 100)\n",
    "    val_predsD[:,1:3] = np.clip(val_predsD[:,1:3], 0, 0)\n",
    "\n",
    "    val_predsD[:,3:] = [1,0,0,0]\n",
    "\n",
    "    val_chain_preds_df = pd.DataFrame(np.concatenate((np.expand_dims(val_chains,-1), np.expand_dims(val_chains_i,-1), val_predsD),-1))\n",
    "    val_chain_preds_df.columns=train_labels.columns#[1:]\n",
    "    val_chain_preds_df.iloc[:,1:]=val_chain_preds_df.iloc[:,1:].astype(float)\n",
    "    val_chain_preds_df = pd.concat([val_chain_preds_df, ref]).sort_values(['chain_id','i']).reset_index(drop=True)\n",
    "\n",
    "    val_chain_preds_df.to_csv('val_chain_preds_'+name+'.csv',index=False)\n",
    "\n",
    "    result = subprocess.run(['python','score.py', 'val_chain_preds_'+name+'.csv', 'val_chain_gt_df.csv'],\n",
    "                            stdout=subprocess.PIPE)\n",
    "    with open(text_name, \"a\") as text_file:\n",
    "        text_file.write(result.stdout.decode('utf-8'))\n",
    "\n",
    "    model.save_weights('weights/ep'+str(cycle)+weightsname)\n",
    "\n",
    "\n",
    "with open(text_name, \"a\") as text_file:\n",
    "    text_file.write('\\n')\n"
   ]
  },
  {
   "cell_type": "code",
   "execution_count": 100,
   "id": "85f2b5f5",
   "metadata": {},
   "outputs": [
    {
     "data": {
      "text/plain": [
       "CompletedProcess(args=['python', 'score.py', 'val_chain_preds_siam_cc_v19B2x_again.csv', 'val_chain_gt_df.csv'], returncode=0, stdout=b'{\\n  \"mean_translation_error\": 0.8944934970510117,\\n  \"mean_rotation_error\": 0.9999999999999992,\\n  \"score\": 1.8944934970510108\\n}\\n')"
      ]
     },
     "execution_count": 100,
     "metadata": {},
     "output_type": "execute_result"
    }
   ],
   "source": [
    "val_predsD=np.concatenate((val_preds,np.zeros((len(val_preds),6))),1)\n",
    "\n",
    "val_predsD[:,0] = np.clip(val_predsD[:,0], 0, 400)**1.0\n",
    "val_predsD[:,1:3] = np.clip(val_predsD[:,1:3], 0, 0)\n",
    "\n",
    "val_predsD[:,3:] = [1,0,0,0]\n",
    "\n",
    "val_chain_preds_df = pd.DataFrame(np.concatenate((np.expand_dims(val_chains,-1), np.expand_dims(val_chains_i,-1), val_predsD),-1))\n",
    "val_chain_preds_df.columns=train_labels.columns#[1:]\n",
    "val_chain_preds_df.iloc[:,1:]=val_chain_preds_df.iloc[:,1:].astype(float)\n",
    "val_chain_preds_df = pd.concat([val_chain_preds_df, ref]).sort_values(['chain_id','i']).reset_index(drop=True)\n",
    "\n",
    "val_chain_preds_df.to_csv('val_chain_preds_'+name+'.csv',index=False)\n",
    "\n",
    "result = subprocess.run(['python','score.py', 'val_chain_preds_'+name+'.csv', 'val_chain_gt_df.csv'],\n",
    "                        stdout=subprocess.PIPE)\n",
    "result"
   ]
  },
  {
   "cell_type": "code",
   "execution_count": 88,
   "id": "5307a824",
   "metadata": {},
   "outputs": [
    {
     "data": {
      "text/plain": [
       "CompletedProcess(args=['python', 'score.py', 'val_chain_preds_siam_cc_v19B2x_again.csv', 'val_chain_gt_df.csv'], returncode=0, stdout=b'{\\n  \"mean_translation_error\": 0.894186669224705,\\n  \"mean_rotation_error\": 0.9999999999999992,\\n  \"score\": 1.8941866692247042\\n}\\n')"
      ]
     },
     "execution_count": 88,
     "metadata": {},
     "output_type": "execute_result"
    }
   ],
   "source": [
    "val_predsD=np.concatenate((val_preds,np.zeros((len(val_preds),6))),1)\n",
    "\n",
    "val_predsD[:,0] = np.clip(val_predsD[:,0], 0, 400)**1.02\n",
    "val_predsD[:,1:3] = np.clip(val_predsD[:,1:3], 0, 0)\n",
    "\n",
    "val_predsD[:,3:] = [1,0,0,0]\n",
    "\n",
    "val_chain_preds_df = pd.DataFrame(np.concatenate((np.expand_dims(val_chains,-1), np.expand_dims(val_chains_i,-1), val_predsD),-1))\n",
    "val_chain_preds_df.columns=train_labels.columns#[1:]\n",
    "val_chain_preds_df.iloc[:,1:]=val_chain_preds_df.iloc[:,1:].astype(float)\n",
    "val_chain_preds_df = pd.concat([val_chain_preds_df, ref]).sort_values(['chain_id','i']).reset_index(drop=True)\n",
    "\n",
    "val_chain_preds_df.to_csv('val_chain_preds_'+name+'.csv',index=False)\n",
    "\n",
    "result = subprocess.run(['python','score.py', 'val_chain_preds_'+name+'.csv', 'val_chain_gt_df.csv'],\n",
    "                        stdout=subprocess.PIPE)\n",
    "result"
   ]
  },
  {
   "cell_type": "code",
   "execution_count": null,
   "id": "d136a75a",
   "metadata": {},
   "outputs": [],
   "source": []
  }
 ],
 "metadata": {
  "kernelspec": {
   "display_name": "Python 3 (ipykernel)",
   "language": "python",
   "name": "python3"
  },
  "language_info": {
   "codemirror_mode": {
    "name": "ipython",
    "version": 3
   },
   "file_extension": ".py",
   "mimetype": "text/x-python",
   "name": "python",
   "nbconvert_exporter": "python",
   "pygments_lexer": "ipython3",
   "version": "3.7.15"
  }
 },
 "nbformat": 4,
 "nbformat_minor": 5
}
