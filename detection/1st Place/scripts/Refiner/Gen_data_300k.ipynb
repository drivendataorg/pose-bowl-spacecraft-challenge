{
 "cells": [
  {
   "cell_type": "code",
   "execution_count": 1,
   "id": "50e123a4-edde-4239-a8f0-94a11bf8aa00",
   "metadata": {},
   "outputs": [
    {
     "name": "stdout",
     "output_type": "stream",
     "text": [
      "Collecting accelerate==0.28.0\n",
      "  Using cached accelerate-0.28.0-py3-none-any.whl (290 kB)\n",
      "Requirement already satisfied: torch>=1.10.0 in /opt/conda/lib/python3.10/site-packages (from accelerate==0.28.0) (2.0.0)\n",
      "Requirement already satisfied: pyyaml in /opt/conda/lib/python3.10/site-packages (from accelerate==0.28.0) (6.0)\n",
      "Requirement already satisfied: packaging>=20.0 in /opt/conda/lib/python3.10/site-packages (from accelerate==0.28.0) (23.0)\n",
      "Requirement already satisfied: psutil in /opt/conda/lib/python3.10/site-packages (from accelerate==0.28.0) (5.9.4)\n",
      "Requirement already satisfied: safetensors>=0.3.1 in /opt/conda/lib/python3.10/site-packages (from accelerate==0.28.0) (0.3.1)\n",
      "Requirement already satisfied: huggingface-hub in /opt/conda/lib/python3.10/site-packages (from accelerate==0.28.0) (0.13.4)\n",
      "Requirement already satisfied: numpy>=1.17 in /opt/conda/lib/python3.10/site-packages (from accelerate==0.28.0) (1.23.5)\n",
      "Requirement already satisfied: filelock in /opt/conda/lib/python3.10/site-packages (from torch>=1.10.0->accelerate==0.28.0) (3.9.0)\n",
      "Requirement already satisfied: typing-extensions in /opt/conda/lib/python3.10/site-packages (from torch>=1.10.0->accelerate==0.28.0) (4.5.0)\n",
      "Requirement already satisfied: sympy in /opt/conda/lib/python3.10/site-packages (from torch>=1.10.0->accelerate==0.28.0) (1.11.1)\n",
      "Requirement already satisfied: networkx in /opt/conda/lib/python3.10/site-packages (from torch>=1.10.0->accelerate==0.28.0) (3.0)\n",
      "Requirement already satisfied: jinja2 in /opt/conda/lib/python3.10/site-packages (from torch>=1.10.0->accelerate==0.28.0) (3.1.2)\n",
      "Requirement already satisfied: requests in /opt/conda/lib/python3.10/site-packages (from huggingface-hub->accelerate==0.28.0) (2.28.1)\n",
      "Requirement already satisfied: tqdm>=4.42.1 in /opt/conda/lib/python3.10/site-packages (from huggingface-hub->accelerate==0.28.0) (4.64.1)\n",
      "Requirement already satisfied: MarkupSafe>=2.0 in /opt/conda/lib/python3.10/site-packages (from jinja2->torch>=1.10.0->accelerate==0.28.0) (2.1.1)\n",
      "Requirement already satisfied: urllib3<1.27,>=1.21.1 in /opt/conda/lib/python3.10/site-packages (from requests->huggingface-hub->accelerate==0.28.0) (1.26.14)\n",
      "Requirement already satisfied: idna<4,>=2.5 in /opt/conda/lib/python3.10/site-packages (from requests->huggingface-hub->accelerate==0.28.0) (3.4)\n",
      "Requirement already satisfied: charset-normalizer<3,>=2 in /opt/conda/lib/python3.10/site-packages (from requests->huggingface-hub->accelerate==0.28.0) (2.0.4)\n",
      "Requirement already satisfied: certifi>=2017.4.17 in /opt/conda/lib/python3.10/site-packages (from requests->huggingface-hub->accelerate==0.28.0) (2022.12.7)\n",
      "Requirement already satisfied: mpmath>=0.19 in /opt/conda/lib/python3.10/site-packages (from sympy->torch>=1.10.0->accelerate==0.28.0) (1.3.0)\n",
      "Installing collected packages: accelerate\n",
      "  Attempting uninstall: accelerate\n",
      "    Found existing installation: accelerate 0.16.0\n",
      "    Uninstalling accelerate-0.16.0:\n",
      "      Successfully uninstalled accelerate-0.16.0\n",
      "Successfully installed accelerate-0.28.0\n",
      "Collecting diffusers==0.27.2\n",
      "  Using cached diffusers-0.27.2-py3-none-any.whl (2.0 MB)\n",
      "Collecting huggingface-hub==0.21.4\n",
      "  Using cached huggingface_hub-0.21.4-py3-none-any.whl (346 kB)\n",
      "Collecting importlib-metadata==7.1.0\n",
      "  Using cached importlib_metadata-7.1.0-py3-none-any.whl (24 kB)\n",
      "Requirement already satisfied: requests in /opt/conda/lib/python3.10/site-packages (from diffusers==0.27.2) (2.28.1)\n",
      "Requirement already satisfied: regex!=2019.12.17 in /opt/conda/lib/python3.10/site-packages (from diffusers==0.27.2) (2022.10.31)\n",
      "Requirement already satisfied: filelock in /opt/conda/lib/python3.10/site-packages (from diffusers==0.27.2) (3.9.0)\n",
      "Requirement already satisfied: safetensors>=0.3.1 in /opt/conda/lib/python3.10/site-packages (from diffusers==0.27.2) (0.3.1)\n",
      "Requirement already satisfied: numpy in /opt/conda/lib/python3.10/site-packages (from diffusers==0.27.2) (1.23.5)\n",
      "Requirement already satisfied: Pillow in /opt/conda/lib/python3.10/site-packages (from diffusers==0.27.2) (9.4.0)\n",
      "Requirement already satisfied: packaging>=20.9 in /opt/conda/lib/python3.10/site-packages (from huggingface-hub==0.21.4) (23.0)\n",
      "Requirement already satisfied: tqdm>=4.42.1 in /opt/conda/lib/python3.10/site-packages (from huggingface-hub==0.21.4) (4.64.1)\n",
      "Requirement already satisfied: typing-extensions>=3.7.4.3 in /opt/conda/lib/python3.10/site-packages (from huggingface-hub==0.21.4) (4.5.0)\n",
      "Requirement already satisfied: pyyaml>=5.1 in /opt/conda/lib/python3.10/site-packages (from huggingface-hub==0.21.4) (6.0)\n",
      "Requirement already satisfied: fsspec>=2023.5.0 in /opt/conda/lib/python3.10/site-packages (from huggingface-hub==0.21.4) (2023.6.0)\n",
      "Requirement already satisfied: zipp>=0.5 in /opt/conda/lib/python3.10/site-packages (from importlib-metadata==7.1.0) (3.14.0)\n",
      "Requirement already satisfied: urllib3<1.27,>=1.21.1 in /opt/conda/lib/python3.10/site-packages (from requests->diffusers==0.27.2) (1.26.14)\n",
      "Requirement already satisfied: charset-normalizer<3,>=2 in /opt/conda/lib/python3.10/site-packages (from requests->diffusers==0.27.2) (2.0.4)\n",
      "Requirement already satisfied: certifi>=2017.4.17 in /opt/conda/lib/python3.10/site-packages (from requests->diffusers==0.27.2) (2022.12.7)\n",
      "Requirement already satisfied: idna<4,>=2.5 in /opt/conda/lib/python3.10/site-packages (from requests->diffusers==0.27.2) (3.4)\n",
      "Installing collected packages: importlib-metadata, huggingface-hub, diffusers\n",
      "  Attempting uninstall: huggingface-hub\n",
      "    Found existing installation: huggingface-hub 0.13.4\n",
      "    Uninstalling huggingface-hub-0.13.4:\n",
      "      Successfully uninstalled huggingface-hub-0.13.4\n",
      "Successfully installed diffusers-0.27.2 huggingface-hub-0.21.4 importlib-metadata-7.1.0\n",
      "Collecting safetensors==0.4.2\n",
      "  Using cached safetensors-0.4.2-cp310-cp310-manylinux_2_17_x86_64.manylinux2014_x86_64.whl (1.3 MB)\n",
      "Collecting tokenizers==0.15.2\n",
      "  Using cached tokenizers-0.15.2-cp310-cp310-manylinux_2_17_x86_64.manylinux2014_x86_64.whl (3.6 MB)\n",
      "Collecting transformers==4.39.1\n",
      "  Using cached transformers-4.39.1-py3-none-any.whl (8.8 MB)\n",
      "Requirement already satisfied: huggingface_hub<1.0,>=0.16.4 in /opt/conda/lib/python3.10/site-packages (from tokenizers==0.15.2) (0.21.4)\n",
      "Requirement already satisfied: filelock in /opt/conda/lib/python3.10/site-packages (from transformers==4.39.1) (3.9.0)\n",
      "Requirement already satisfied: requests in /opt/conda/lib/python3.10/site-packages (from transformers==4.39.1) (2.28.1)\n",
      "Requirement already satisfied: tqdm>=4.27 in /opt/conda/lib/python3.10/site-packages (from transformers==4.39.1) (4.64.1)\n",
      "Requirement already satisfied: numpy>=1.17 in /opt/conda/lib/python3.10/site-packages (from transformers==4.39.1) (1.23.5)\n",
      "Requirement already satisfied: packaging>=20.0 in /opt/conda/lib/python3.10/site-packages (from transformers==4.39.1) (23.0)\n",
      "Requirement already satisfied: pyyaml>=5.1 in /opt/conda/lib/python3.10/site-packages (from transformers==4.39.1) (6.0)\n",
      "Requirement already satisfied: regex!=2019.12.17 in /opt/conda/lib/python3.10/site-packages (from transformers==4.39.1) (2022.10.31)\n",
      "Requirement already satisfied: typing-extensions>=3.7.4.3 in /opt/conda/lib/python3.10/site-packages (from huggingface_hub<1.0,>=0.16.4->tokenizers==0.15.2) (4.5.0)\n",
      "Requirement already satisfied: fsspec>=2023.5.0 in /opt/conda/lib/python3.10/site-packages (from huggingface_hub<1.0,>=0.16.4->tokenizers==0.15.2) (2023.6.0)\n",
      "Requirement already satisfied: certifi>=2017.4.17 in /opt/conda/lib/python3.10/site-packages (from requests->transformers==4.39.1) (2022.12.7)\n",
      "Requirement already satisfied: idna<4,>=2.5 in /opt/conda/lib/python3.10/site-packages (from requests->transformers==4.39.1) (3.4)\n",
      "Requirement already satisfied: charset-normalizer<3,>=2 in /opt/conda/lib/python3.10/site-packages (from requests->transformers==4.39.1) (2.0.4)\n",
      "Requirement already satisfied: urllib3<1.27,>=1.21.1 in /opt/conda/lib/python3.10/site-packages (from requests->transformers==4.39.1) (1.26.14)\n",
      "Installing collected packages: safetensors, tokenizers, transformers\n",
      "  Attempting uninstall: safetensors\n",
      "    Found existing installation: safetensors 0.3.1\n",
      "    Uninstalling safetensors-0.3.1:\n",
      "      Successfully uninstalled safetensors-0.3.1\n",
      "  Attempting uninstall: tokenizers\n",
      "    Found existing installation: tokenizers 0.13.2\n",
      "    Uninstalling tokenizers-0.13.2:\n",
      "      Successfully uninstalled tokenizers-0.13.2\n",
      "  Attempting uninstall: transformers\n",
      "    Found existing installation: transformers 4.28.0\n",
      "    Uninstalling transformers-4.28.0:\n",
      "      Successfully uninstalled transformers-4.28.0\n",
      "Successfully installed safetensors-0.4.2 tokenizers-0.15.2 transformers-4.39.1\n",
      "Collecting bitsandbytes==0.43.0\n",
      "  Using cached bitsandbytes-0.43.0-py3-none-manylinux_2_24_x86_64.whl (102.2 MB)\n",
      "Requirement already satisfied: numpy in /opt/conda/lib/python3.10/site-packages (from bitsandbytes==0.43.0) (1.23.5)\n",
      "Requirement already satisfied: torch in /opt/conda/lib/python3.10/site-packages (from bitsandbytes==0.43.0) (2.0.0)\n",
      "Requirement already satisfied: filelock in /opt/conda/lib/python3.10/site-packages (from torch->bitsandbytes==0.43.0) (3.9.0)\n",
      "Requirement already satisfied: typing-extensions in /opt/conda/lib/python3.10/site-packages (from torch->bitsandbytes==0.43.0) (4.5.0)\n",
      "Requirement already satisfied: sympy in /opt/conda/lib/python3.10/site-packages (from torch->bitsandbytes==0.43.0) (1.11.1)\n",
      "Requirement already satisfied: networkx in /opt/conda/lib/python3.10/site-packages (from torch->bitsandbytes==0.43.0) (3.0)\n",
      "Requirement already satisfied: jinja2 in /opt/conda/lib/python3.10/site-packages (from torch->bitsandbytes==0.43.0) (3.1.2)\n",
      "Requirement already satisfied: MarkupSafe>=2.0 in /opt/conda/lib/python3.10/site-packages (from jinja2->torch->bitsandbytes==0.43.0) (2.1.1)\n",
      "Requirement already satisfied: mpmath>=0.19 in /opt/conda/lib/python3.10/site-packages (from sympy->torch->bitsandbytes==0.43.0) (1.3.0)\n",
      "Installing collected packages: bitsandbytes\n",
      "  Attempting uninstall: bitsandbytes\n",
      "    Found existing installation: bitsandbytes 0.37.0\n",
      "    Uninstalling bitsandbytes-0.37.0:\n",
      "      Successfully uninstalled bitsandbytes-0.37.0\n",
      "Successfully installed bitsandbytes-0.43.0\n"
     ]
    }
   ],
   "source": [
    "!pip install accelerate==0.28.0\n",
    "!pip install diffusers==0.27.2 huggingface-hub==0.21.4 importlib-metadata==7.1.0\n",
    "!pip install safetensors==0.4.2 tokenizers==0.15.2 transformers==4.39.1\n",
    "!pip install bitsandbytes==0.43.0"
   ]
  },
  {
   "cell_type": "code",
   "execution_count": 2,
   "id": "ccc211b5-4b7a-4adf-9060-934bad5914a0",
   "metadata": {},
   "outputs": [
    {
     "name": "stderr",
     "output_type": "stream",
     "text": [
      "/opt/conda/lib/python3.10/site-packages/tqdm/auto.py:22: TqdmWarning: IProgress not found. Please update jupyter and ipywidgets. See https://ipywidgets.readthedocs.io/en/stable/user_install.html\n",
      "  from .autonotebook import tqdm as notebook_tqdm\n",
      "Loading pipeline components...:   0%|          | 0/5 [00:00<?, ?it/s]\n",
      "Loading checkpoint shards:   0%|          | 0/5 [00:00<?, ?it/s]\u001b[A\n",
      "Loading checkpoint shards:  20%|██        | 1/5 [00:00<00:00,  4.16it/s]\u001b[A\n",
      "Loading checkpoint shards:  40%|████      | 2/5 [00:00<00:00,  4.25it/s]\u001b[A\n",
      "Loading checkpoint shards:  60%|██████    | 3/5 [00:00<00:00,  4.09it/s]\u001b[A\n",
      "Loading checkpoint shards:  80%|████████  | 4/5 [00:00<00:00,  4.08it/s]\u001b[A\n",
      "Loading checkpoint shards: 100%|██████████| 5/5 [00:01<00:00,  4.21it/s]\u001b[A\n",
      "Loading pipeline components...:  40%|████      | 2/5 [00:01<00:02,  1.12it/s]Special tokens have been added in the vocabulary, make sure the associated word embeddings are fine-tuned or trained.\n",
      "Loading pipeline components...: 100%|██████████| 5/5 [00:03<00:00,  1.48it/s]\n"
     ]
    }
   ],
   "source": [
    "import os\n",
    "import os.path\n",
    "import random\n",
    "\n",
    "import numpy as np\n",
    "import torch\n",
    "from diffusers import AutoPipelineForText2Image\n",
    "\n",
    "\n",
    "def seed_torch(seed=42):\n",
    "    random.seed(seed)\n",
    "    os.environ[\"PYTHONHASHSEED\"] = str(seed)\n",
    "    np.random.seed(seed)\n",
    "    torch.manual_seed(seed)\n",
    "    torch.cuda.manual_seed(seed)\n",
    "    torch.backends.cudnn.deterministic = True\n",
    "\n",
    "\n",
    "seed_torch()\n",
    "pipe = AutoPipelineForText2Image.from_pretrained(\n",
    "    \"kandinsky-community/kandinsky-3\", variant=\"fp16\", torch_dtype=torch.float16\n",
    ").to(\"cuda\")\n",
    "pipe.enable_model_cpu_offload()"
   ]
  },
  {
   "cell_type": "code",
   "execution_count": 3,
   "id": "b8a53956-1552-4d10-b310-8626b81f7d05",
   "metadata": {},
   "outputs": [],
   "source": [
    "prompts = [\n",
    "    \"Outter space with a part of the Earth visible\",\n",
    "    \"Outter space with a very small part of the Earth visible\",\n",
    "    \"Outter space with a part of the Mars visible\",\n",
    "    \"Outter space with a very small part of the Mars visible\",\n",
    "    \"Outter space with a part of the moon visible\",\n",
    "    \"Outter space with a very small part of the moon visible\",\n",
    "    \"Outter space\",\n",
    "    \"Outter space with sunshine\",\n",
    "    \"Outter space with Earth and moon visible and sunshine\",\n",
    "    \"Outter space with Earth and moon visible\",\n",
    "    \"Outter space with Earth visible and clouds\",\n",
    "    \"Outter space with Earth visible and clouds top view\",\n",
    "    \"Outter space with Earth visible and forests satallite image\",\n",
    "    \"satallite image from the space for a country\",\n",
    "    \"satallite image from the space for a country with clouds\",\n",
    "    \"satallite image from the space for an ocean\",\n",
    "    \"satallite image from the space for an ocean with clouds\",\n",
    "    \"Outer space with Earth partially obscured by the curvature of a planet. satallite image\",\n",
    "    \"Outer space with a sliver of Earth peeking through the darkness. satallite image\",\n",
    "    \"Outer space with Mars dominating the foreground, dwarfing Earth in the distance. satallite image\",\n",
    "    \"Outer space with a tiny glimpse of Mars in the vast expanse. satallite image\",\n",
    "    \"Outer space with the moon prominently featured against the backdrop of stars. satallite image\",\n",
    "    \"Outer space with a minuscule portion of the moon barely visible. satallite image\",\n",
    "    \"An expansive view of outer space, devoid of any celestial bodies. satallite image\",\n",
    "    \"Outer space illuminated by the warm glow of a distant star. satallite image\",\n",
    "    \"Outer space with both Earth and the moon in the frame, basking in sunlight. satallite image\",\n",
    "    \"Outer space with Earth and the moon captured in perfect alignment. satallite image\",\n",
    "    \"Outer space with Earth visible, adorned by wispy clouds. satallite image\",\n",
    "    \"Outer space showcasing Earth from a bird's-eye view, surrounded by clouds. satallite image\",\n",
    "    \"Outer space capturing Earth's surface, showcasing lush forests and sprawling landscapes. satallite image\",\n",
    "    \"A satellite image captured from outer space, focusing on a specific country's terrain and features. satallite image\",\n",
    "]"
   ]
  },
  {
   "cell_type": "code",
   "execution_count": 4,
   "id": "7d208e35-d394-40b0-a541-569b73f861f4",
   "metadata": {
    "scrolled": true
   },
   "outputs": [
    {
     "name": "stdout",
     "output_type": "stream",
     "text": [
      "1.4453242726627216\n"
     ]
    },
    {
     "name": "stderr",
     "output_type": "stream",
     "text": [
      "100%|██████████| 25/25 [00:14<00:00,  1.68it/s]\n"
     ]
    },
    {
     "name": "stdout",
     "output_type": "stream",
     "text": [
      "1.979567415213905\n"
     ]
    },
    {
     "name": "stderr",
     "output_type": "stream",
     "text": [
      "100%|██████████| 25/25 [00:14<00:00,  1.75it/s]\n"
     ]
    },
    {
     "name": "stdout",
     "output_type": "stream",
     "text": [
      "2999remains\n",
      "1.40998070468603\n"
     ]
    },
    {
     "name": "stderr",
     "output_type": "stream",
     "text": [
      "100%|██████████| 25/25 [00:13<00:00,  1.82it/s]\n"
     ]
    },
    {
     "name": "stdout",
     "output_type": "stream",
     "text": [
      "2998remains\n",
      "3.181466134993399\n"
     ]
    },
    {
     "name": "stderr",
     "output_type": "stream",
     "text": [
      "100%|██████████| 25/25 [00:14<00:00,  1.73it/s]\n"
     ]
    },
    {
     "name": "stdout",
     "output_type": "stream",
     "text": [
      "2997remains\n",
      "1.1271307179271344\n"
     ]
    },
    {
     "name": "stderr",
     "output_type": "stream",
     "text": [
      "100%|██████████| 25/25 [00:14<00:00,  1.69it/s]\n"
     ]
    },
    {
     "name": "stdout",
     "output_type": "stream",
     "text": [
      "2996remains\n",
      "1.9306435735629583\n"
     ]
    },
    {
     "name": "stderr",
     "output_type": "stream",
     "text": [
      "100%|██████████| 25/25 [00:14<00:00,  1.76it/s]\n"
     ]
    },
    {
     "name": "stdout",
     "output_type": "stream",
     "text": [
      "2995remains\n",
      "3.244980251754452\n"
     ]
    },
    {
     "name": "stderr",
     "output_type": "stream",
     "text": [
      "100%|██████████| 25/25 [00:14<00:00,  1.76it/s]\n"
     ]
    },
    {
     "name": "stdout",
     "output_type": "stream",
     "text": [
      "2994remains\n",
      "3.8052998943609437\n"
     ]
    },
    {
     "name": "stderr",
     "output_type": "stream",
     "text": [
      "100%|██████████| 25/25 [00:13<00:00,  1.79it/s]\n"
     ]
    },
    {
     "name": "stdout",
     "output_type": "stream",
     "text": [
      "2993remains\n",
      "2.7968361851354144\n"
     ]
    },
    {
     "name": "stderr",
     "output_type": "stream",
     "text": [
      "  0%|          | 0/25 [00:01<?, ?it/s]\n",
      "\n",
      "KeyboardInterrupt\n",
      "\n"
     ]
    }
   ],
   "source": [
    "# \"Outter space with a part of the Earth visible\"\n",
    "## you need to create a folder /gen_images/ in your data directory\n",
    "for i in range(3000):\n",
    "    seed = random.randint(0, 2024)\n",
    "    guidance_scale = random.uniform(1.0, 5.0)\n",
    "    print(guidance_scale)\n",
    "    prompt = random.choice(prompts)\n",
    "    generator = torch.Generator(device=\"cuda\").manual_seed(seed)\n",
    "    image = pipe(\n",
    "        prompt,\n",
    "        num_inference_steps=25,\n",
    "        generator=generator,\n",
    "        guidance_scale=guidance_scale,\n",
    "        height=1024,\n",
    "        width=1280,\n",
    "    ).images[0]\n",
    "    image.save(f\"/PATH FOR DATA GENERATION/na/gen_images/{i}.png\")\n",
    "    if i % 10:\n",
    "        print(str(3000 - i) + \"remains\")"
   ]
  },
  {
   "cell_type": "markdown",
   "id": "d2de757c-7b95-4888-8a4e-84d00fc3f9cc",
   "metadata": {},
   "source": [
    "## Restart kernal"
   ]
  },
  {
   "cell_type": "code",
   "execution_count": 1,
   "id": "07808850-cdd4-496c-8bbd-9940bd82fa3d",
   "metadata": {},
   "outputs": [],
   "source": [
    "import os\n",
    "import os.path\n",
    "import random\n",
    "\n",
    "import cv2\n",
    "import pandas as pd\n",
    "import torch\n",
    "\n",
    "\n",
    "def seed_torch(seed=42):\n",
    "    random.seed(seed)\n",
    "    os.environ[\"PYTHONHASHSEED\"] = str(seed)\n",
    "    np.random.seed(seed)\n",
    "    torch.manual_seed(seed)\n",
    "    torch.cuda.manual_seed(seed)\n",
    "    torch.backends.cudnn.deterministic = True\n",
    "\n",
    "\n",
    "seed_torch()\n",
    "PATH = \"/PATH TO THE DAT DIRECTOY/nbg\"\n",
    "PATH2 = \"PATH FOR DATA GENERATed ABOVE\"\n",
    "## you need to create a folder with /syn3/ name in you data directory\n",
    "PATH3 = \"/PATH TO THE DAT DIRECTOY/data\"\n",
    "lst = os.listdir(f\"{PATH}/images\")\n",
    "lst2 = os.listdir(f\"{PATH2}\")"
   ]
  },
  {
   "cell_type": "code",
   "execution_count": 2,
   "id": "d2a96535-3e46-43bf-9c1f-2abb2ab752aa",
   "metadata": {},
   "outputs": [],
   "source": [
    "df = pd.read_csv(f\"{PATH}/no_background.csv\")"
   ]
  },
  {
   "cell_type": "code",
   "execution_count": 3,
   "id": "454eb444-5953-4d73-a147-0e23562f9ec4",
   "metadata": {},
   "outputs": [],
   "source": [
    "lst2 = [i for i in lst2 if i.endswith(\".png\")]"
   ]
  },
  {
   "cell_type": "code",
   "execution_count": 4,
   "id": "284481f2-e5f8-4f99-bbea-871b892836ff",
   "metadata": {},
   "outputs": [
    {
     "data": {
      "text/plain": [
       "3000"
      ]
     },
     "execution_count": 4,
     "metadata": {},
     "output_type": "execute_result"
    }
   ],
   "source": [
    "len(lst2)"
   ]
  },
  {
   "cell_type": "code",
   "execution_count": null,
   "id": "92b4f51a-26e8-4dbb-9ec0-c47eac662bcb",
   "metadata": {},
   "outputs": [],
   "source": [
    "## make a directory with /syn3/ name inside labels and images folders"
   ]
  },
  {
   "cell_type": "code",
   "execution_count": 5,
   "id": "ea4dd036-b04b-414e-b61a-155b443f4a40",
   "metadata": {
    "scrolled": true
   },
   "outputs": [
    {
     "data": {
      "application/vnd.jupyter.widget-view+json": {
       "model_id": "d1f09ccaaf68465382e19fafded5f9e8",
       "version_major": 2,
       "version_minor": 0
      },
      "text/plain": [
       "  0%|          | 0/100 [00:00<?, ?it/s]"
      ]
     },
     "metadata": {},
     "output_type": "display_data"
    }
   ],
   "source": [
    "from tqdm.notebook import tqdm\n",
    "\n",
    "\n",
    "def convert_box(x1, y1, x2, y2, w, h):\n",
    "    W = x2 - x1\n",
    "    H = y2 - y1\n",
    "    cx = x1 + W // 2\n",
    "    cy = y1 + H // 2\n",
    "    return [0, cx / w, cy / h, W / w, H / h]\n",
    "\n",
    "\n",
    "cnt = 0\n",
    "for i in tqdm(lst2[:100]):\n",
    "    img_orig = cv2.imread(f\"{PATH2}/{i}\")\n",
    "    for rnd_id in range(3000):\n",
    "        img = img_orig.copy()\n",
    "        info = df.iloc[rnd_id]\n",
    "        img2 = cv2.imread(f\"{PATH}/images/{info['image_id']}.png\", cv2.IMREAD_UNCHANGED)\n",
    "        x1 = int(info[\"xmin\"])\n",
    "        y1 = int(info[\"ymin\"])\n",
    "        x2 = int(info[\"xmax\"])\n",
    "        y2 = int(info[\"ymax\"])\n",
    "        img3 = img2[y1:y2, x1:x2, :]\n",
    "        h, w, _ = img.shape\n",
    "        xp = random.randint(0, w - x2 + x1)\n",
    "        yp = random.randint(0, h - y2 + y1)\n",
    "        mask = img3[:, :, 3] >= 1  # img[yp:yp + (y2 - y1), xp:xp + (x2 - x1),:]\n",
    "        img3 = img3[:, :, :3]\n",
    "        img[yp : yp + (y2 - y1), xp : xp + (x2 - x1), :][mask] = img3[mask]\n",
    "        bbox = convert_box(xp, yp, (x2 - x1) + xp, (y2 - y1) + yp, w, h)\n",
    "        bbox[1] = min(max(bbox[1], 0), w - 1)\n",
    "        bbox[2] = min(max(bbox[2], 0), h - 1)\n",
    "        bbox[3] = min(max(bbox[3], 0), w - 1)\n",
    "        bbox[4] = min(max(bbox[4], 0), h - 1)\n",
    "        with open(f\"{PATH3}/labels/syn3/{str(rnd_id)}_{i.replace('.png', '.txt')}\", \"w\") as f:\n",
    "            bbox = [str(k) for k in bbox]\n",
    "            bbox = \" \".join(bbox)\n",
    "            f.write(bbox)\n",
    "            f.write(\"\\n\")\n",
    "        img = cv2.cvtColor(img, cv2.COLOR_BGR2RGB)\n",
    "        cv2.imwrite(f\"{PATH3}/images/syn3/{str(rnd_id)}_{i}\", img)"
   ]
  },
  {
   "cell_type": "code",
   "execution_count": null,
   "id": "a26425d6-5559-4638-b383-92e4ec026f4d",
   "metadata": {},
   "outputs": [],
   "source": []
  }
 ],
 "metadata": {
  "kernelspec": {
   "display_name": "Python 3 (ipykernel)",
   "language": "python",
   "name": "python3"
  },
  "language_info": {
   "codemirror_mode": {
    "name": "ipython",
    "version": 3
   },
   "file_extension": ".py",
   "mimetype": "text/x-python",
   "name": "python",
   "nbconvert_exporter": "python",
   "pygments_lexer": "ipython3",
   "version": "3.10.9"
  }
 },
 "nbformat": 4,
 "nbformat_minor": 5
}
