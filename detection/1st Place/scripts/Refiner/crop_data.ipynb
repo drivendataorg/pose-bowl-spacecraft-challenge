{
 "cells": [
  {
   "cell_type": "code",
   "execution_count": 1,
   "id": "b766ce36-ac44-4014-baca-6f2e042a9770",
   "metadata": {},
   "outputs": [],
   "source": [
    "import pandas as pd\n",
    "import cv2\n",
    "import torch\n",
    "import numpy as np\n",
    "import os.path\n",
    "import random\n",
    "import os\n",
    "\n",
    "\n",
    "def seed_torch(seed=42):\n",
    "    random.seed(seed)\n",
    "    os.environ[\"PYTHONHASHSEED\"] = str(seed)\n",
    "    np.random.seed(seed)\n",
    "    torch.manual_seed(seed)\n",
    "    torch.cuda.manual_seed(seed)\n",
    "    torch.backends.cudnn.deterministic = True\n",
    "\n",
    "\n",
    "seed_torch()\n",
    "PATH = \"/PATH TO DATA WITH No background/nbg\"\n",
    "PATH2 = \"/PATH TO DATA/na/data\"\n",
    "lst = os.listdir(f\"{PATH}/images\")\n",
    "lst2 = os.listdir(f\"{PATH2}/images/all\")"
   ]
  },
  {
   "cell_type": "code",
   "execution_count": 2,
   "id": "807c92ff-5113-48e0-9102-5e8353030071",
   "metadata": {},
   "outputs": [],
   "source": [
    "df = pd.read_csv(f\"{PATH}/no_background.csv\")"
   ]
  },
  {
   "cell_type": "code",
   "execution_count": 3,
   "id": "4c75f87c-ea41-4bb0-86e2-f459de99eb94",
   "metadata": {},
   "outputs": [
    {
     "data": {
      "text/html": [
       "<div>\n",
       "<style scoped>\n",
       "    .dataframe tbody tr th:only-of-type {\n",
       "        vertical-align: middle;\n",
       "    }\n",
       "\n",
       "    .dataframe tbody tr th {\n",
       "        vertical-align: top;\n",
       "    }\n",
       "\n",
       "    .dataframe thead th {\n",
       "        text-align: right;\n",
       "    }\n",
       "</style>\n",
       "<table border=\"1\" class=\"dataframe\">\n",
       "  <thead>\n",
       "    <tr style=\"text-align: right;\">\n",
       "      <th></th>\n",
       "      <th>image_id</th>\n",
       "      <th>spacecraft_id</th>\n",
       "      <th>xmin</th>\n",
       "      <th>ymin</th>\n",
       "      <th>xmax</th>\n",
       "      <th>ymax</th>\n",
       "    </tr>\n",
       "  </thead>\n",
       "  <tbody>\n",
       "    <tr>\n",
       "      <th>0</th>\n",
       "      <td>23c7f89d00006caee536a22e5807de95</td>\n",
       "      <td>5</td>\n",
       "      <td>994</td>\n",
       "      <td>596</td>\n",
       "      <td>1079</td>\n",
       "      <td>705</td>\n",
       "    </tr>\n",
       "    <tr>\n",
       "      <th>1</th>\n",
       "      <td>7e53cd9413f0333db10fab205c03bb0e</td>\n",
       "      <td>5</td>\n",
       "      <td>775</td>\n",
       "      <td>783</td>\n",
       "      <td>855</td>\n",
       "      <td>887</td>\n",
       "    </tr>\n",
       "    <tr>\n",
       "      <th>2</th>\n",
       "      <td>506da85290a45fdfdca3e07d19c07353</td>\n",
       "      <td>5</td>\n",
       "      <td>605</td>\n",
       "      <td>27</td>\n",
       "      <td>899</td>\n",
       "      <td>285</td>\n",
       "    </tr>\n",
       "    <tr>\n",
       "      <th>3</th>\n",
       "      <td>e3319f6372660a9ec4eea1a049f8ebfc</td>\n",
       "      <td>5</td>\n",
       "      <td>1061</td>\n",
       "      <td>946</td>\n",
       "      <td>1109</td>\n",
       "      <td>1024</td>\n",
       "    </tr>\n",
       "    <tr>\n",
       "      <th>4</th>\n",
       "      <td>b38e19187c0b4f37fd1731270d8e8f8a</td>\n",
       "      <td>5</td>\n",
       "      <td>835</td>\n",
       "      <td>525</td>\n",
       "      <td>940</td>\n",
       "      <td>635</td>\n",
       "    </tr>\n",
       "  </tbody>\n",
       "</table>\n",
       "</div>"
      ],
      "text/plain": [
       "                           image_id  spacecraft_id  xmin  ymin  xmax  ymax\n",
       "0  23c7f89d00006caee536a22e5807de95              5   994   596  1079   705\n",
       "1  7e53cd9413f0333db10fab205c03bb0e              5   775   783   855   887\n",
       "2  506da85290a45fdfdca3e07d19c07353              5   605    27   899   285\n",
       "3  e3319f6372660a9ec4eea1a049f8ebfc              5  1061   946  1109  1024\n",
       "4  b38e19187c0b4f37fd1731270d8e8f8a              5   835   525   940   635"
      ]
     },
     "execution_count": 3,
     "metadata": {},
     "output_type": "execute_result"
    }
   ],
   "source": [
    "df.head()"
   ]
  },
  {
   "cell_type": "code",
   "execution_count": 4,
   "id": "189217ba-ac8e-4df4-bd58-1ff62727db21",
   "metadata": {},
   "outputs": [
    {
     "data": {
      "text/plain": [
       "3750"
      ]
     },
     "execution_count": 4,
     "metadata": {},
     "output_type": "execute_result"
    }
   ],
   "source": [
    "len(df)"
   ]
  },
  {
   "cell_type": "code",
   "execution_count": null,
   "id": "1f7f6655-442b-4c19-82dd-467d14aed418",
   "metadata": {},
   "outputs": [],
   "source": [
    "## make a directory with /crop/ name inside labels and images folders"
   ]
  },
  {
   "cell_type": "code",
   "execution_count": 35,
   "id": "af91b16d-f4ab-41ee-820a-87473994d474",
   "metadata": {},
   "outputs": [
    {
     "data": {
      "application/vnd.jupyter.widget-view+json": {
       "model_id": "021c3ca0e9c44991bd41ff597a14bd2d",
       "version_major": 2,
       "version_minor": 0
      },
      "text/plain": [
       "0it [00:00, ?it/s]"
      ]
     },
     "metadata": {},
     "output_type": "display_data"
    }
   ],
   "source": [
    "from tqdm.notebook import tqdm\n",
    "\n",
    "\n",
    "def convert_box(x1, y1, x2, y2, W, H):\n",
    "    w = x2 - x1\n",
    "    h = y2 - y1\n",
    "    cx = x1 + w / 2\n",
    "    cy = y1 + h / 2\n",
    "    return [0, cx / W, cy / H, w / W, h / H]\n",
    "\n",
    "\n",
    "def convert_box2(cx, cy, w, h):\n",
    "    x1 = cx - (w // 2)\n",
    "    y1 = cy - (h // 2)\n",
    "    x2 = cx + (w // 2)\n",
    "    y2 = cy + (h // 2)\n",
    "    return [x1, y1, x2, y2]\n",
    "\n",
    "\n",
    "def expand_region(box, w, h, l, m):\n",
    "    noise = random.randint(5, 11)\n",
    "    noise = noise / 10.0\n",
    "    x1 = int(max(0, box[0] - noise * l))\n",
    "    noise = random.randint(5, 11)\n",
    "    noise = noise / 10.0\n",
    "    y1 = int(max(0, box[1] - noise * m))\n",
    "    noise = random.randint(5, 11)\n",
    "    noise = noise / 10.0\n",
    "    x2 = int(min(w, box[2] + noise * l))\n",
    "    noise = random.randint(5, 11)\n",
    "    noise = noise / 10.0\n",
    "    y2 = int(min(h, box[3] + noise * m))\n",
    "    return [x1, y1, x2, y2]\n",
    "\n",
    "\n",
    "def shift_box(box, region):\n",
    "    box[0] -= region[0]\n",
    "    box[1] -= region[1]\n",
    "    box[2] -= region[0]\n",
    "    box[3] -= region[1]\n",
    "    return box\n",
    "\n",
    "\n",
    "for idx, i in tqdm(enumerate(lst2)):\n",
    "    img = cv2.imread(f\"{PATH2}/images/train/{i}\")\n",
    "    with open(f\"{PATH2}/labels/train/{i.replace('.png', '.txt')}\", \"r\") as f:\n",
    "        txt = [float(x) for x in f.read().strip().split(\" \")]\n",
    "        txt[0] = int(txt[0])\n",
    "    H, W, _ = img.shape\n",
    "    cx = int(txt[1] * W)\n",
    "    cy = int(txt[2] * H)\n",
    "    w = int(txt[3] * W)\n",
    "    h = int(txt[4] * H)\n",
    "    box = convert_box2(cx, cy, w, h)\n",
    "    region = expand_region(box, W, H, w, h)\n",
    "\n",
    "    img2 = img[region[1] : region[3], region[0] : region[2], :]\n",
    "    box = shift_box(box, region)\n",
    "    nH, nW, _ = img2.shape\n",
    "    bbox = convert_box(box[0], box[1], box[2], box[3], nW, nH)\n",
    "    with open(f\"{PATH2}/labels/crop/{i.replace('.png', '.txt')}\", \"w\") as f:\n",
    "        bbox = [str(k) for k in bbox]\n",
    "        bbox = \" \".join(bbox)\n",
    "        f.write(bbox)\n",
    "        f.write(\"\\n\")\n",
    "    img2 = cv2.cvtColor(img2, cv2.COLOR_BGR2RGB)\n",
    "    cv2.imwrite(f\"{PATH2}/images/crop/{i}\", img2)"
   ]
  }
 ],
 "metadata": {
  "kernelspec": {
   "display_name": "Python 3 (ipykernel)",
   "language": "python",
   "name": "python3"
  },
  "language_info": {
   "codemirror_mode": {
    "name": "ipython",
    "version": 3
   },
   "file_extension": ".py",
   "mimetype": "text/x-python",
   "name": "python",
   "nbconvert_exporter": "python",
   "pygments_lexer": "ipython3",
   "version": "3.10.9"
  }
 },
 "nbformat": 4,
 "nbformat_minor": 5
}
