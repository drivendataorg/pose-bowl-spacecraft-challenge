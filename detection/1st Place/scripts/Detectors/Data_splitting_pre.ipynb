{
 "cells": [
  {
   "cell_type": "code",
   "execution_count": 1,
   "id": "1539741e-51c0-45ac-911f-0360baedfaa5",
   "metadata": {},
   "outputs": [],
   "source": [
    "import pandas as pd"
   ]
  },
  {
   "cell_type": "code",
   "execution_count": 2,
   "id": "f2f821e7-c1ab-4de0-b070-756a1de6a727",
   "metadata": {},
   "outputs": [],
   "source": [
    "df = pd.read_csv(\"/PATH TO THE COMPETITION DATA/train_labels_det.csv\")"
   ]
  },
  {
   "cell_type": "code",
   "execution_count": 3,
   "id": "5c380ce8-e6bb-48c2-90ae-800f74dd2a25",
   "metadata": {},
   "outputs": [
    {
     "data": {
      "text/html": [
       "<div>\n",
       "<style scoped>\n",
       "    .dataframe tbody tr th:only-of-type {\n",
       "        vertical-align: middle;\n",
       "    }\n",
       "\n",
       "    .dataframe tbody tr th {\n",
       "        vertical-align: top;\n",
       "    }\n",
       "\n",
       "    .dataframe thead th {\n",
       "        text-align: right;\n",
       "    }\n",
       "</style>\n",
       "<table border=\"1\" class=\"dataframe\">\n",
       "  <thead>\n",
       "    <tr style=\"text-align: right;\">\n",
       "      <th></th>\n",
       "      <th>image_id</th>\n",
       "      <th>xmin</th>\n",
       "      <th>ymin</th>\n",
       "      <th>xmax</th>\n",
       "      <th>ymax</th>\n",
       "    </tr>\n",
       "  </thead>\n",
       "  <tbody>\n",
       "    <tr>\n",
       "      <th>0</th>\n",
       "      <td>0001954c9f4a58f7ac05358b3cda8d20</td>\n",
       "      <td>0</td>\n",
       "      <td>277</td>\n",
       "      <td>345</td>\n",
       "      <td>709</td>\n",
       "    </tr>\n",
       "    <tr>\n",
       "      <th>1</th>\n",
       "      <td>00054819240f9d46378288b215dbcd3a</td>\n",
       "      <td>753</td>\n",
       "      <td>602</td>\n",
       "      <td>932</td>\n",
       "      <td>725</td>\n",
       "    </tr>\n",
       "    <tr>\n",
       "      <th>2</th>\n",
       "      <td>000dbf763348037b46558bbcb6a032ac</td>\n",
       "      <td>160</td>\n",
       "      <td>434</td>\n",
       "      <td>203</td>\n",
       "      <td>481</td>\n",
       "    </tr>\n",
       "    <tr>\n",
       "      <th>3</th>\n",
       "      <td>000e79208bebd8e84ce6c22fd8612a0d</td>\n",
       "      <td>70</td>\n",
       "      <td>534</td>\n",
       "      <td>211</td>\n",
       "      <td>586</td>\n",
       "    </tr>\n",
       "    <tr>\n",
       "      <th>4</th>\n",
       "      <td>000f13aff94499d03e3997afc55b0aa0</td>\n",
       "      <td>103</td>\n",
       "      <td>0</td>\n",
       "      <td>312</td>\n",
       "      <td>193</td>\n",
       "    </tr>\n",
       "  </tbody>\n",
       "</table>\n",
       "</div>"
      ],
      "text/plain": [
       "                           image_id  xmin  ymin  xmax  ymax\n",
       "0  0001954c9f4a58f7ac05358b3cda8d20     0   277   345   709\n",
       "1  00054819240f9d46378288b215dbcd3a   753   602   932   725\n",
       "2  000dbf763348037b46558bbcb6a032ac   160   434   203   481\n",
       "3  000e79208bebd8e84ce6c22fd8612a0d    70   534   211   586\n",
       "4  000f13aff94499d03e3997afc55b0aa0   103     0   312   193"
      ]
     },
     "execution_count": 3,
     "metadata": {},
     "output_type": "execute_result"
    }
   ],
   "source": [
    "df.head()"
   ]
  },
  {
   "cell_type": "code",
   "execution_count": 7,
   "id": "d820e660-50ee-407b-ac00-8b881e3c7436",
   "metadata": {},
   "outputs": [
    {
     "data": {
      "text/plain": [
       "25801"
      ]
     },
     "execution_count": 7,
     "metadata": {},
     "output_type": "execute_result"
    }
   ],
   "source": [
    "len(df[\"image_id\"].unique())"
   ]
  },
  {
   "cell_type": "code",
   "execution_count": 4,
   "id": "61e16bb4-98b7-4ece-a417-aabc79b89bce",
   "metadata": {},
   "outputs": [
    {
     "data": {
      "text/plain": [
       "25801"
      ]
     },
     "execution_count": 4,
     "metadata": {},
     "output_type": "execute_result"
    }
   ],
   "source": [
    "len(df)"
   ]
  },
  {
   "cell_type": "code",
   "execution_count": 5,
   "id": "b0909fe7-9db3-454f-8e53-072f5df57c7d",
   "metadata": {},
   "outputs": [
    {
     "data": {
      "text/plain": [
       "25801"
      ]
     },
     "execution_count": 5,
     "metadata": {},
     "output_type": "execute_result"
    }
   ],
   "source": [
    "len(df[\"image_id\"].unique())"
   ]
  },
  {
   "cell_type": "code",
   "execution_count": 6,
   "id": "6e8225a0-5fca-468c-a2aa-9ac6ef01ec1f",
   "metadata": {},
   "outputs": [],
   "source": [
    "from PIL import Image\n",
    "\n",
    "path = \"/PATH TO THE COMPETITION DATA/images\"\n",
    "save_path = \"/PATH TO THE COMPETITION DATA/data/images\"\n",
    "areas = []\n",
    "for i in df.values:\n",
    "    area = (i[-1] - i[-3]) * (i[-2] - i[-4]) // 1000\n",
    "    areas.append(area)"
   ]
  },
  {
   "cell_type": "code",
   "execution_count": 7,
   "id": "ba866c7a-4718-4f0f-8266-437fde0610d6",
   "metadata": {},
   "outputs": [],
   "source": [
    "df[\"area\"] = areas"
   ]
  },
  {
   "cell_type": "code",
   "execution_count": 8,
   "id": "d3f93a5b-9f07-415c-883b-f8c6d7238f88",
   "metadata": {},
   "outputs": [
    {
     "data": {
      "text/html": [
       "<div>\n",
       "<style scoped>\n",
       "    .dataframe tbody tr th:only-of-type {\n",
       "        vertical-align: middle;\n",
       "    }\n",
       "\n",
       "    .dataframe tbody tr th {\n",
       "        vertical-align: top;\n",
       "    }\n",
       "\n",
       "    .dataframe thead th {\n",
       "        text-align: right;\n",
       "    }\n",
       "</style>\n",
       "<table border=\"1\" class=\"dataframe\">\n",
       "  <thead>\n",
       "    <tr style=\"text-align: right;\">\n",
       "      <th></th>\n",
       "      <th>image_id</th>\n",
       "      <th>xmin</th>\n",
       "      <th>ymin</th>\n",
       "      <th>xmax</th>\n",
       "      <th>ymax</th>\n",
       "      <th>area</th>\n",
       "    </tr>\n",
       "  </thead>\n",
       "  <tbody>\n",
       "    <tr>\n",
       "      <th>0</th>\n",
       "      <td>0001954c9f4a58f7ac05358b3cda8d20</td>\n",
       "      <td>0</td>\n",
       "      <td>277</td>\n",
       "      <td>345</td>\n",
       "      <td>709</td>\n",
       "      <td>149</td>\n",
       "    </tr>\n",
       "    <tr>\n",
       "      <th>1</th>\n",
       "      <td>00054819240f9d46378288b215dbcd3a</td>\n",
       "      <td>753</td>\n",
       "      <td>602</td>\n",
       "      <td>932</td>\n",
       "      <td>725</td>\n",
       "      <td>22</td>\n",
       "    </tr>\n",
       "    <tr>\n",
       "      <th>2</th>\n",
       "      <td>000dbf763348037b46558bbcb6a032ac</td>\n",
       "      <td>160</td>\n",
       "      <td>434</td>\n",
       "      <td>203</td>\n",
       "      <td>481</td>\n",
       "      <td>2</td>\n",
       "    </tr>\n",
       "    <tr>\n",
       "      <th>3</th>\n",
       "      <td>000e79208bebd8e84ce6c22fd8612a0d</td>\n",
       "      <td>70</td>\n",
       "      <td>534</td>\n",
       "      <td>211</td>\n",
       "      <td>586</td>\n",
       "      <td>7</td>\n",
       "    </tr>\n",
       "    <tr>\n",
       "      <th>4</th>\n",
       "      <td>000f13aff94499d03e3997afc55b0aa0</td>\n",
       "      <td>103</td>\n",
       "      <td>0</td>\n",
       "      <td>312</td>\n",
       "      <td>193</td>\n",
       "      <td>40</td>\n",
       "    </tr>\n",
       "  </tbody>\n",
       "</table>\n",
       "</div>"
      ],
      "text/plain": [
       "                           image_id  xmin  ymin  xmax  ymax  area\n",
       "0  0001954c9f4a58f7ac05358b3cda8d20     0   277   345   709   149\n",
       "1  00054819240f9d46378288b215dbcd3a   753   602   932   725    22\n",
       "2  000dbf763348037b46558bbcb6a032ac   160   434   203   481     2\n",
       "3  000e79208bebd8e84ce6c22fd8612a0d    70   534   211   586     7\n",
       "4  000f13aff94499d03e3997afc55b0aa0   103     0   312   193    40"
      ]
     },
     "execution_count": 8,
     "metadata": {},
     "output_type": "execute_result"
    }
   ],
   "source": [
    "df.head()"
   ]
  },
  {
   "cell_type": "code",
   "execution_count": 9,
   "id": "cba1b9f4-a188-4f70-bd63-fd33e3a7292e",
   "metadata": {},
   "outputs": [
    {
     "name": "stdout",
     "output_type": "stream",
     "text": [
      "fold  area\n",
      "0     0       298\n",
      "      1       469\n",
      "      2       344\n",
      "      3       264\n",
      "      4       208\n",
      "             ... \n",
      "4     1274      1\n",
      "      1280      1\n",
      "      1286      1\n",
      "      1303      1\n",
      "      1310     15\n",
      "Length: 3129, dtype: int64\n"
     ]
    },
    {
     "name": "stderr",
     "output_type": "stream",
     "text": [
      "/opt/conda/lib/python3.10/site-packages/sklearn/model_selection/_split.py:700: UserWarning: The least populated class in y has only 1 members, which is less than n_splits=5.\n",
      "  warnings.warn(\n"
     ]
    }
   ],
   "source": [
    "from sklearn.model_selection import StratifiedKFold\n",
    "\n",
    "folds = df.copy()\n",
    "Fold = StratifiedKFold(n_splits=5, shuffle=True, random_state=42)\n",
    "for n, (train_index, val_index) in enumerate(Fold.split(folds, folds[\"area\"])):\n",
    "    folds.loc[val_index, \"fold\"] = int(n)\n",
    "folds[\"fold\"] = folds[\"fold\"].astype(int)\n",
    "print(folds.groupby([\"fold\", \"area\"]).size())"
   ]
  },
  {
   "cell_type": "code",
   "execution_count": 12,
   "id": "3be11349-fc18-42bd-bdcc-0b890ff96fa4",
   "metadata": {},
   "outputs": [],
   "source": [
    "folds.to_csv(\"folds.csv\", index=False)"
   ]
  },
  {
   "cell_type": "code",
   "execution_count": 2,
   "id": "f00fc3c9-e7f2-459c-b4b9-2c18aefc89fe",
   "metadata": {},
   "outputs": [],
   "source": [
    "def convert_box(x1, y1, x2, y2, w, h):\n",
    "    W = x2 - x1\n",
    "    H = y2 - y1\n",
    "    cx = x1 + W // 2\n",
    "    cy = y1 + H // 2\n",
    "    return cx / w, cy / h, W / w, H / h"
   ]
  },
  {
   "cell_type": "code",
   "execution_count": 24,
   "id": "6a7d6825-e4ed-44c1-ae2b-4148bc2d8125",
   "metadata": {},
   "outputs": [
    {
     "name": "stdout",
     "output_type": "stream",
     "text": [
      "25000 MORE TO GO\n",
      "\n",
      "24000 MORE TO GO\n",
      "\n",
      "23000 MORE TO GO\n",
      "\n",
      "22000 MORE TO GO\n",
      "\n",
      "21000 MORE TO GO\n",
      "\n",
      "20000 MORE TO GO\n",
      "\n",
      "19000 MORE TO GO\n",
      "\n",
      "18000 MORE TO GO\n",
      "\n",
      "17000 MORE TO GO\n",
      "\n",
      "16000 MORE TO GO\n",
      "\n",
      "15000 MORE TO GO\n",
      "\n",
      "14000 MORE TO GO\n",
      "\n",
      "13000 MORE TO GO\n",
      "\n",
      "12000 MORE TO GO\n",
      "\n",
      "11000 MORE TO GO\n",
      "\n",
      "10000 MORE TO GO\n",
      "\n",
      "9000 MORE TO GO\n",
      "\n",
      "8000 MORE TO GO\n",
      "\n",
      "7000 MORE TO GO\n",
      "\n",
      "6000 MORE TO GO\n",
      "\n",
      "5000 MORE TO GO\n",
      "\n",
      "4000 MORE TO GO\n",
      "\n",
      "3000 MORE TO GO\n",
      "\n",
      "2000 MORE TO GO\n",
      "\n",
      "1000 MORE TO GO\n",
      "\n",
      "0 MORE TO GO\n",
      "\n"
     ]
    }
   ],
   "source": [
    "path = \"/PATH TO THE COMPETITION DATA/images\"\n",
    "save_path = \"/PATH TO THE COMPETITION DATA/data/images\"\n",
    "### you need to make directories inside data folder as follows\n",
    "# mkdir images\n",
    "# cd images\n",
    "# mkdir train\n",
    "# mkdir val\n",
    "# cd ..\n",
    "# mkdir labels\n",
    "# cd labels\n",
    "# mkdir train\n",
    "# mkdir val\n",
    "# cd ..\n",
    "for idx, i in enumerate(folds.values):\n",
    "    im = Image.open(f\"{path}/{i[0]}.png\")\n",
    "    w, h = im.size\n",
    "    x, y, w, h = convert_box(i[1], i[2], i[3], i[4], w, h)\n",
    "    if i[-1] == 0:\n",
    "        im.save(f\"{save_path}/val/{i[0]}.png\")\n",
    "        with open(f\"{save_path.replace('images','labels')}/val/{i[0]}.txt\", \"a\") as f:\n",
    "            f.write(f\"0 {x} {y} {w} {h}\\n\")\n",
    "    # else:\n",
    "    ## you can return the else to get the split we used to tune the parameters\n",
    "    ## But the training later done on all data\n",
    "    im.save(f\"{save_path}/train/{i[0]}.png\")\n",
    "    with open(f\"{save_path.replace('images','labels')}/train/{i[0]}.txt\", \"a\") as f:\n",
    "        f.write(f\"0 {x} {y} {w} {h}\\n\")\n",
    "    if idx % 1000 == 0:\n",
    "        print(25000 - idx, \"MORE TO GO\\n\")"
   ]
  },
  {
   "cell_type": "code",
   "execution_count": null,
   "id": "dd7f32f4-d294-47df-842e-f174f5b063c2",
   "metadata": {},
   "outputs": [],
   "source": []
  }
 ],
 "metadata": {
  "kernelspec": {
   "display_name": "Python 3 (ipykernel)",
   "language": "python",
   "name": "python3"
  },
  "language_info": {
   "codemirror_mode": {
    "name": "ipython",
    "version": 3
   },
   "file_extension": ".py",
   "mimetype": "text/x-python",
   "name": "python",
   "nbconvert_exporter": "python",
   "pygments_lexer": "ipython3",
   "version": "3.10.9"
  }
 },
 "nbformat": 4,
 "nbformat_minor": 5
}
